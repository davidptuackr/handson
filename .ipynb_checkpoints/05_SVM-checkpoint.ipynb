{
 "cells": [
  {
   "cell_type": "markdown",
   "id": "a5ea2c4a",
   "metadata": {},
   "source": [
    "# 서포트 벡터 머신"
   ]
  },
  {
   "cell_type": "raw",
   "id": "8a6aceef",
   "metadata": {},
   "source": [
    "아이디어\n",
    "    두 집단 모두에게서 가장 멀리 떨어진 경계선을 만드는 것\n",
    "    ~ DMZ 사이에 군사분계선 긋기 (한쪽으로 편향되지 않게, 균등하게 3km씩 떨어지도록)\n",
    "\n",
    "특징\n",
    "    클래스 간 가장 거리가 가까운 샘플들에 의해 경계 결정\n",
    "        *** 이 때 서로의 거리가 가장 가까운 샘플을 >>> 서포트 벡터 <<< 라고 함\n",
    "    서포트 벡터 바깥쪽에 샘플을 추가해도 경계 모양이 변하지는 않음\n",
    "    SVM은 특성 스케일에 민감함"
   ]
  },
  {
   "cell_type": "markdown",
   "id": "5c172ec8",
   "metadata": {},
   "source": [
    "### 소프트 마진 분류"
   ]
  },
  {
   "cell_type": "raw",
   "id": "e72a59c2",
   "metadata": {},
   "source": [
    "하드 마진 분류\n",
    "    모든 샘플이 경계 바깥쪽으로 딱! 분류된 경우\n",
    "    문제\n",
    "        1. 선형적으로 구분되야 함\n",
    "        2. 이상치에 민감함\n",
    "        >>> ~ 돌출부 같은게 있으면 딱 나누지 못함\n",
    "    >>> 샘플 사이의 거리를 가능한 넓게 하는 것과 마진 오류 사이의 균형을 잡아야 함\n",
    "\n",
    "소프트 마진 분류\n",
    "    샘플 사이의 거리를 가능한 넓게 하는 것과 마진 오류 사이의 균형을 잡은 방식\n",
    "    >>> ~ 절충안\n",
    "    사이킷런의 SVM에선 하이퍼파리미터 C를 사용해 균형 조절\n",
    "    \n",
    "    C?\n",
    "        결정 경계를 얼마나 좁게 잡을지 조절하는 하이퍼파라미터\n",
    "        커질 수록 더 좁게 >>> 확실하게 분류할 수 있지만 일반화 정도가 떨어질 수 있다 ( == 과대적합)\n",
    "        작을 수록 덜 좁게 >>> 일반화는 잘 되지만 정확도, 재현률은 떨어질 수 있다 ( == 과소적합)"
   ]
  },
  {
   "cell_type": "code",
   "execution_count": 1,
   "id": "f150ba12",
   "metadata": {},
   "outputs": [],
   "source": [
    "import matplotlib\n",
    "import matplotlib.pyplot as plt\n",
    "plt.rcParams['axes.labelsize'] = 14\n",
    "plt.rcParams['xtick.labelsize'] = 12\n",
    "plt.rcParams['ytick.labelsize'] = 12\n",
    "\n",
    "# 한글출력\n",
    "plt.rcParams['font.family'] = 'batang'\n",
    "plt.rcParams['axes.unicode_minus'] = False"
   ]
  },
  {
   "cell_type": "code",
   "execution_count": 2,
   "id": "7e7e3a98",
   "metadata": {},
   "outputs": [
    {
     "data": {
      "text/plain": [
       "Pipeline(steps=[('scaler', StandardScaler()),\n",
       "                ('linear_svc', LinearSVC(C=1, loss='hinge'))])"
      ]
     },
     "execution_count": 2,
     "metadata": {},
     "output_type": "execute_result"
    }
   ],
   "source": [
    "\"\"\" SVM 구현 \"\"\"\n",
    "\n",
    "import numpy as np\n",
    "from sklearn import datasets\n",
    "from sklearn.pipeline import Pipeline\n",
    "from sklearn.preprocessing import StandardScaler\n",
    "from sklearn.svm import LinearSVC\n",
    "\n",
    "iris = datasets.load_iris()\n",
    "X = iris[\"data\"][ : , (2, 3)] # 꽃잎 길이 & 너비\n",
    "y = (iris[\"target\"] == 2).astype(np.float64) # virginica\n",
    "\n",
    "svm_clf = Pipeline([\n",
    "    (\"scaler\", StandardScaler()),\n",
    "    (\"linear_svc\", LinearSVC(C=1, loss=\"hinge\"))\n",
    "])\n",
    "\n",
    "svm_clf.fit(X, y)"
   ]
  },
  {
   "cell_type": "code",
   "execution_count": 3,
   "id": "28d1d0f7",
   "metadata": {},
   "outputs": [
    {
     "data": {
      "text/plain": [
       "array([1.])"
      ]
     },
     "execution_count": 3,
     "metadata": {},
     "output_type": "execute_result"
    }
   ],
   "source": [
    "svm_clf.predict([[5.5, 1.7]])"
   ]
  },
  {
   "cell_type": "raw",
   "id": "d5ffbf14",
   "metadata": {},
   "source": [
    "*** LinearSVC는 클래스에 대한 확률은 제공하지 않음. 단, probability=True 지정 시 predict_proba 사용 가능"
   ]
  },
  {
   "cell_type": "raw",
   "id": "714c363f",
   "metadata": {},
   "source": [
    "다른 방법\n",
    "    1. SVC(kernel=\"linear\", C=1)\n",
    "    2. SGDClassifier(loss=\"hinge\", alpha=1/(m*C) >>> 데이터셋이 아주 큰 경우 & 온라인 학습 시 "
   ]
  },
  {
   "cell_type": "raw",
   "id": "f2a7e556",
   "metadata": {},
   "source": [
    "LinearSVC는 규제에 편향을 포함시킨다\n",
    "그래서 훈련 세트에서 평균을 빼 중앙에 맞춰야 한다\n",
    "StandardScaler를 사용하면 알아서 이렇게 해준다\n",
    "LinearSVC는 규제에 편향을 포함하고 있기에 그냥 하면 차이가 발생한다.\n",
    "+ loss=\"hinge\"로 해야 한다 (기본 \"squared_hinge\")\n",
    "++ 훈련 샘플보다 특성이 많지 않다면 성능 향상을 위해 dual=False로 해야 함"
   ]
  },
  {
   "cell_type": "markdown",
   "id": "ad2c055e",
   "metadata": {},
   "source": [
    "# 비선형 SVM 분류"
   ]
  },
  {
   "cell_type": "raw",
   "id": "5bced602",
   "metadata": {},
   "source": [
    "PolynomialFeatures + StandardScaler + LinearSVC 조합 >>> Pipeline"
   ]
  },
  {
   "cell_type": "code",
   "execution_count": 4,
   "id": "8ddfadfa",
   "metadata": {},
   "outputs": [
    {
     "name": "stderr",
     "output_type": "stream",
     "text": [
      "C:\\Users\\rksla\\anaconda3\\lib\\site-packages\\sklearn\\svm\\_base.py:985: ConvergenceWarning: Liblinear failed to converge, increase the number of iterations.\n",
      "  warnings.warn(\"Liblinear failed to converge, increase \"\n"
     ]
    },
    {
     "data": {
      "text/plain": [
       "Pipeline(steps=[('poly_features', PolynomialFeatures(degree=3)),\n",
       "                ('scaler', StandardScaler()),\n",
       "                ('svm_clf', LinearSVC(C=10, loss='hinge'))])"
      ]
     },
     "execution_count": 4,
     "metadata": {},
     "output_type": "execute_result"
    }
   ],
   "source": [
    "from sklearn.datasets import make_moons\n",
    "from sklearn.pipeline import Pipeline\n",
    "from sklearn.preprocessing import PolynomialFeatures\n",
    "\n",
    "X, y = make_moons(n_samples=100, noise=0.15, random_state=42)\n",
    "\n",
    "polynomial_svm_clf = Pipeline([\n",
    "    (\"poly_features\", PolynomialFeatures(degree=3)),\n",
    "    (\"scaler\", StandardScaler()),\n",
    "    (\"svm_clf\", LinearSVC(C=10, loss=\"hinge\"))\n",
    "])\n",
    "\n",
    "polynomial_svm_clf.fit(X, y)"
   ]
  },
  {
   "cell_type": "markdown",
   "id": "c25e2ad1",
   "metadata": {},
   "source": [
    "### 다항식 커널"
   ]
  },
  {
   "cell_type": "raw",
   "id": "4f47d16c",
   "metadata": {},
   "source": [
    "커널 트릭\n",
    "    실제론 특성을 추가하지 않으면서 다항식 특성을 많이 추가한 것과 같은 결과를 얻을 수 있게 하는 기법\n",
    "    실제 특성을 추가하는 것이 아니기 때문에 PolynomialFeatures 이용 시 조합이 많이 생기지 않음"
   ]
  },
  {
   "cell_type": "code",
   "execution_count": 5,
   "id": "ff03b498",
   "metadata": {},
   "outputs": [
    {
     "data": {
      "text/plain": [
       "Pipeline(steps=[('scaler', StandardScaler()),\n",
       "                ('svm_clf', SVC(C=5, coef0=1, kernel='poly'))])"
      ]
     },
     "execution_count": 5,
     "metadata": {},
     "output_type": "execute_result"
    }
   ],
   "source": [
    "\"\"\"\n",
    "커널 트릭 예시\n",
    "\n",
    "    degree: 경계 차수\n",
    "    coef0: \n",
    "        다항식 커널의 상수항 r (기본 0).\n",
    "        차수가 높을 수록 계수에 의해서도 값의 차이가 커질 수 있기 때문에 coef0로 고차항의 영향력 조정\n",
    "        \n",
    "    *** 적절한 하이퍼파라미터 조합은 GridSearch 활용을 통해 찾을 수 있다\n",
    "\"\"\"\n",
    "\n",
    "from sklearn.svm import SVC\n",
    "\n",
    "poly_kernel_svm_clf = Pipeline([\n",
    "    (\"scaler\", StandardScaler()),\n",
    "    (\"svm_clf\", SVC(kernel=\"poly\", degree=3, coef0=1, C=5))\n",
    "])\n",
    "\n",
    "poly_kernel_svm_clf.fit(X, y)"
   ]
  },
  {
   "cell_type": "code",
   "execution_count": 6,
   "id": "7833990a",
   "metadata": {},
   "outputs": [
    {
     "data": {
      "text/plain": [
       "Pipeline(steps=[('scaler', StandardScaler()),\n",
       "                ('svm_clf', SVC(C=5, coef0=100, degree=10, kernel='poly'))])"
      ]
     },
     "execution_count": 6,
     "metadata": {},
     "output_type": "execute_result"
    }
   ],
   "source": [
    "\"\"\" 10차 + 상수항 100 \"\"\"\n",
    "\n",
    "poly100_kernel_svm_clf = Pipeline([\n",
    "        (\"scaler\", StandardScaler()),\n",
    "        (\"svm_clf\", SVC(kernel=\"poly\", degree=10, coef0=100, C=5))\n",
    "    ])\n",
    "poly100_kernel_svm_clf.fit(X, y)"
   ]
  },
  {
   "cell_type": "code",
   "execution_count": 7,
   "id": "0aaeb41d",
   "metadata": {},
   "outputs": [],
   "source": [
    "def plot_dataset(X, y, axes):\n",
    "    plt.plot(X[:, 0][y==0], X[:, 1][y==0], \"bs\")\n",
    "    plt.plot(X[:, 0][y==1], X[:, 1][y==1], \"g^\")\n",
    "    plt.axis(axes)\n",
    "    plt.grid(True, which='both')\n",
    "    plt.xlabel(r\"$x_1$\", fontsize=20)\n",
    "    plt.ylabel(r\"$x_2$\", fontsize=20, rotation=0)"
   ]
  },
  {
   "cell_type": "code",
   "execution_count": 8,
   "id": "b4e5749c",
   "metadata": {},
   "outputs": [],
   "source": [
    "def plot_predictions(clf, axes):\n",
    "    x0s = np.linspace(axes[0], axes[1], 100)\n",
    "    x1s = np.linspace(axes[2], axes[3], 100)\n",
    "    x0, x1 = np.meshgrid(x0s, x1s)\n",
    "    X = np.c_[x0.ravel(), x1.ravel()]\n",
    "    y_pred = clf.predict(X).reshape(x0.shape)\n",
    "    y_decision = clf.decision_function(X).reshape(x0.shape)\n",
    "    plt.contourf(x0, x1, y_pred, cmap=plt.cm.brg, alpha=0.2)\n",
    "    plt.contourf(x0, x1, y_decision, cmap=plt.cm.brg, alpha=0.1)"
   ]
  },
  {
   "cell_type": "code",
   "execution_count": 9,
   "id": "206531a8",
   "metadata": {},
   "outputs": [
    {
     "data": {
      "text/plain": [
       "Text(0.5, 1.0, '$d=10, r=100, C=5$')"
      ]
     },
     "execution_count": 9,
     "metadata": {},
     "output_type": "execute_result"
    },
    {
     "data": {
      "image/png": "[encoded data removed]",
      "text/plain": [
       "<Figure size 792x288 with 2 Axes>"
      ]
     },
     "metadata": {
      "needs_background": "light"
     },
     "output_type": "display_data"
    }
   ],
   "source": [
    "plt.figure(figsize=(11, 4))\n",
    "\n",
    "plt.subplot(121)\n",
    "plot_predictions(poly_kernel_svm_clf, [-1.5, 2.5, -1, 1.5])\n",
    "plot_dataset(X, y, [-1.5, 2.5, -1, 1.5])\n",
    "plt.title(r\"$d=3, r=1, C=5$\", fontsize=18)\n",
    "\n",
    "plt.subplot(122)\n",
    "plot_predictions(poly100_kernel_svm_clf, [-1.5, 2.5, -1, 1.5])\n",
    "plot_dataset(X, y, [-1.5, 2.5, -1, 1.5])\n",
    "plt.title(r\"$d=10, r=100, C=5$\", fontsize=18)"
   ]
  },
  {
   "cell_type": "markdown",
   "id": "4774ae9b",
   "metadata": {},
   "source": [
    "### 유사도 특성 추가"
   ]
  },
  {
   "cell_type": "raw",
   "id": "54638f20",
   "metadata": {},
   "source": [
    "상세\n",
    "    특정 샘플 x를 기준으로 했을 때 다른 샘플들은 x와 얼마나 비슷한지를 계산해 이를 새 특성으로 추가하는 방식\n",
    "    이때 \n",
    "        x >>> 랜드마크\n",
    "        얼마나 비슷한지 계산하는 방법 >>> 유사도 함수\n",
    "    \n",
    "    랜드마크 선정 방식은 그냥 모든 샘플을 선택하는 것\n",
    "    이 때 차원이 매우 커지고, 변환된 훈련 세트가 선형적으로 구분될 가능성이 높아진다.\n",
    "    단점은 n개의 특성을 가진 m개의 샘플이 m개의 특성을 가진 m개의 샘플로 변환된다는 것이다.\n",
    "        >>> 샘플 수가 커질 수록 처리가 힘들어진다?\n",
    "    \n",
    "    ex1. 훈련세트가 다음과 같을 때\n",
    "        [x1, x2, x3, x4]\n",
    "        >>>\n",
    "        [ \n",
    "            x1=[ x1과 유사도 ( = 1 ), x2와 유사도 ( 0 <= ~ <= 1 ), x3와 유사도, x4와 유사도],\n",
    "            x2=[ x1과 유사도, x2와 유사도, x3와 유사도, x4와 유사도],\n",
    "            x3=[ x1과 유사도, x2와 유사도, x3와 유사도, x4와 유사도],\n",
    "            x4=[ x1과 유사도, x2와 유사도, x3와 유사도, x4와 유사도]\n",
    "        ]\n",
    "            \n",
    "        \n",
    "    ex2. 훈련세트가 다음과 같을 때\n",
    "        [\n",
    "            x1=[ a1, a2 ],\n",
    "            x2=[ a1, a2 ],\n",
    "            x3=[ a1, a2 ]\n",
    "        ]\n",
    "        >>>\n",
    "        [\n",
    "            x1=[ [x1a1과 유사도, x2a1와 유사도, x3a1와 유사도], [x1a2과 유사도, x2a2와 유사도, x2a2와 유사도] ],\n",
    "            x2= ... ,\n",
    "            x3= ...\n",
    "        ]"
   ]
  },
  {
   "cell_type": "raw",
   "id": "106a7bd9",
   "metadata": {},
   "source": [
    "유사도 특성 추가를 이용해 주가흐름 패턴을 분석할 수 있을까?"
   ]
  },
  {
   "cell_type": "markdown",
   "id": "0db084c4",
   "metadata": {},
   "source": [
    "### 가우시안 RBF 커널"
   ]
  },
  {
   "cell_type": "raw",
   "id": "54f52cd6",
   "metadata": {},
   "source": [
    "위의 ex2와 같이, 특성이 많아질수록 연산 비용이 많아진다\n",
    ">>> 커널 트릭으로 해결 가능"
   ]
  },
  {
   "cell_type": "code",
   "execution_count": 10,
   "id": "3f9d3aba",
   "metadata": {},
   "outputs": [
    {
     "data": {
      "text/plain": [
       "Pipeline(steps=[('scaler', StandardScaler()),\n",
       "                ('svm_clf', SVC(C=0.001, gamma=5))])"
      ]
     },
     "execution_count": 10,
     "metadata": {},
     "output_type": "execute_result"
    }
   ],
   "source": [
    "\"\"\"\n",
    "    kernel=\"rbf\"\n",
    "    rbf >>> Gaussian Radial Basis Function (가우시안 방사기저함수)\n",
    "     식\n",
    "         ϕ(bold x, l) = exp(-γ||bold x - l ||^2)\n",
    "\"\"\"\n",
    "\n",
    "rbf_kernel_svm_clf = Pipeline([\n",
    "    (\"scaler\", StandardScaler()),\n",
    "    (\"svm_clf\", SVC(kernel=\"rbf\", gamma=5, C=0.001))\n",
    "])\n",
    "\n",
    "rbf_kernel_svm_clf.fit(X, y)"
   ]
  },
  {
   "cell_type": "code",
   "execution_count": 11,
   "id": "cbfaaf2c",
   "metadata": {},
   "outputs": [
    {
     "data": {
      "text/plain": [
       "Pipeline(steps=[('scaler', StandardScaler()),\n",
       "                ('svm_clf', SVC(C=1000, gamma=5))])"
      ]
     },
     "execution_count": 11,
     "metadata": {},
     "output_type": "execute_result"
    }
   ],
   "source": [
    "rbf_kernel_svm_clf_C1000 = Pipeline([\n",
    "    (\"scaler\", StandardScaler()),\n",
    "    (\"svm_clf\", SVC(kernel=\"rbf\", gamma=5, C=1000))\n",
    "])\n",
    "\n",
    "rbf_kernel_svm_clf_C1000.fit(X, y)"
   ]
  },
  {
   "cell_type": "code",
   "execution_count": 12,
   "id": "dcee560b",
   "metadata": {},
   "outputs": [
    {
     "data": {
      "text/plain": [
       "Pipeline(steps=[('scaler', StandardScaler()),\n",
       "                ('svm_clf', SVC(C=0.001, gamma=0.1))])"
      ]
     },
     "execution_count": 12,
     "metadata": {},
     "output_type": "execute_result"
    }
   ],
   "source": [
    "rbf_kernel_svm_clf_g01_C0001 = Pipeline([\n",
    "    (\"scaler\", StandardScaler()),\n",
    "    (\"svm_clf\", SVC(kernel=\"rbf\", gamma=0.1, C=0.001))\n",
    "])\n",
    "\n",
    "rbf_kernel_svm_clf_g01_C0001.fit(X, y)"
   ]
  },
  {
   "cell_type": "code",
   "execution_count": 13,
   "id": "dcce2fc8",
   "metadata": {},
   "outputs": [
    {
     "data": {
      "text/plain": [
       "Pipeline(steps=[('scaler', StandardScaler()),\n",
       "                ('svm_clf', SVC(C=1000, gamma=0.1))])"
      ]
     },
     "execution_count": 13,
     "metadata": {},
     "output_type": "execute_result"
    }
   ],
   "source": [
    "rbf_kernel_svm_clf_g01_C1000 = Pipeline([\n",
    "    (\"scaler\", StandardScaler()),\n",
    "    (\"svm_clf\", SVC(kernel=\"rbf\", gamma=0.1, C=1000))\n",
    "])\n",
    "\n",
    "rbf_kernel_svm_clf_g01_C1000.fit(X, y)"
   ]
  },
  {
   "cell_type": "code",
   "execution_count": 14,
   "id": "3ec80cd5",
   "metadata": {},
   "outputs": [
    {
     "data": {
      "image/png": "[encoded data removed]",
      "text/plain": [
       "<Figure size 1152x576 with 4 Axes>"
      ]
     },
     "metadata": {
      "needs_background": "light"
     },
     "output_type": "display_data"
    }
   ],
   "source": [
    "plt.figure(figsize=(16, 8))\n",
    "\n",
    "plt.subplot(221)\n",
    "plot_predictions(rbf_kernel_svm_clf_g01_C0001, [-1.5, 2.5, -1, 1.5])\n",
    "plot_dataset(X, y, [-1.5, 2.5, -1, 1.5])\n",
    "plt.title(r\"$γ=0.1, C=0.001$\", fontsize=18)\n",
    "\n",
    "plt.subplot(222)\n",
    "plot_predictions(rbf_kernel_svm_clf_g01_C1000, [-1.5, 2.5, -1, 1.5])\n",
    "plot_dataset(X, y, [-1.5, 2.5, -1, 1.5])\n",
    "plt.title(r\"$γ=0.1, C=1000$\", fontsize=18)\n",
    "\n",
    "plt.subplot(223)\n",
    "plot_predictions(rbf_kernel_svm_clf, [-1.5, 2.5, -1, 1.5])\n",
    "plot_dataset(X, y, [-1.5, 2.5, -1, 1.5])\n",
    "plt.title(r\"$γ=5, C=0.001$\", fontsize=18)\n",
    "\n",
    "plt.subplot(224)\n",
    "plot_predictions(rbf_kernel_svm_clf_C1000, [-1.5, 2.5, -1, 1.5])\n",
    "plot_dataset(X, y, [-1.5, 2.5, -1, 1.5])\n",
    "plt.title(r\"$γ=5, C=1000$\", fontsize=18)\n",
    "\n",
    "plt.show()"
   ]
  },
  {
   "cell_type": "raw",
   "id": "0d01ad92",
   "metadata": {},
   "source": [
    "γ가 커질 수록 RBF의 모양은 급격해진다\n",
    ">>> 비슷한 샘플끼리 뭉치게 된다\n",
    ">>> γ가 하이퍼파라미터 역할을 한다"
   ]
  },
  {
   "cell_type": "raw",
   "id": "66caab63",
   "metadata": {},
   "source": [
    "SVM 모델 구축 시 고려사항\n",
    "\n",
    "    1. 하이퍼파라미터 γ, C로 규제를 추가 / 완화할 수 있다\n",
    "        γ: 얼마나 비슷해야 하는지 설정. 작을 수록 규제 완화 (덜 비슷해도 같은 클래스로 포함)\n",
    "        C: 경계를 얼마나 엄격하게 할 것인지 설정. 작을 수록 규제 완화\n",
    "        \n",
    "    2. 커널 선택\n",
    "        1. 선형 커널 먼저 시도 (특히 훈련 세트 / 특성이 아주 많을 때)\n",
    "        2. 훈련 세트가 너무 크지 않다면 가우시안RBF (대부분 잘 맞음)\n",
    "        3. 교차 검증 / 그리드 탐색으로 최적 커널 탐색"
   ]
  },
  {
   "cell_type": "markdown",
   "id": "8f8e0f7b",
   "metadata": {},
   "source": [
    "### 계산 복잡도"
   ]
  },
  {
   "cell_type": "raw",
   "id": "28ce0f37",
   "metadata": {},
   "source": [
    "SVC는 보통 big-O(m^2 * n) ~ big-O(m^3 * n) (m: 샘플 수, n: 특성 수)\n",
    "\n",
    "*** 희소 특성인 경우, 샘플이 가진 0이 아닌 특성의 평균 수에 거의 비례"
   ]
  },
  {
   "cell_type": "raw",
   "id": "87006e5f",
   "metadata": {},
   "source": [
    "SVM 분류를 위한 사이킷런 클래스 비교\n",
    "\n",
    "                       시간복잡도                                   외부 메모리 학습 지원     스케일 조정    커널 트릭\n",
    "LinearSVC      big-O(m n)                                   X                                      필요                불가\n",
    "SGDClassifier big-O(m n)                                   O                                      필요                불가\n",
    "SVC                big-O(m^2 * n) ~ big-O(m^3 * n)  X                                      필요                가능"
   ]
  },
  {
   "cell_type": "markdown",
   "id": "685a6cfa",
   "metadata": {},
   "source": [
    "# SVM 회귀"
   ]
  },
  {
   "cell_type": "raw",
   "id": "adaa155c",
   "metadata": {},
   "source": [
    "오차 폭 안에 최대한 많은 샘플이 들어오도록 하는 방식으로 구현\n",
    ">>> SVC와 반대로 한다고 생각하면 된다 ( 여기는 오차 폭 안에 최대한 적게 >>> 마진 오류를 적게 )\n",
    "\n",
    "폭은 하이퍼파라미터 ε로 조절\n",
    "*** 허용오차가 아님 (SVC, SVR에서 허용오차는 tol)\n",
    "\n",
    "범위 안에서는 샘플이 추가되어도 모델의 예측에는 영향을 주지 못함\n",
    ">>> 모델이 ε에 민감하지 않다"
   ]
  },
  {
   "cell_type": "code",
   "execution_count": 15,
   "id": "6acc1ce8",
   "metadata": {},
   "outputs": [
    {
     "data": {
      "text/plain": [
       "LinearSVR(epsilon=1.5)"
      ]
     },
     "execution_count": 15,
     "metadata": {},
     "output_type": "execute_result"
    }
   ],
   "source": [
    "\"\"\" 선형 SVR 구현 \"\"\"\n",
    "\n",
    "from sklearn.svm import LinearSVR\n",
    "\n",
    "svm_reg = LinearSVR(epsilon=1.5)\n",
    "svm_reg.fit(X, y)"
   ]
  },
  {
   "cell_type": "markdown",
   "id": "183380a7",
   "metadata": {},
   "source": [
    "### 비선형 SVR"
   ]
  },
  {
   "cell_type": "raw",
   "id": "15b86c93",
   "metadata": {},
   "source": [
    "비선형 회귀 작업을 하기 위해선 커널 SVM 모델 사용\n",
    "\n",
    "C를 크게 할 수록 규제가 적어지고?\n",
    "C를 작게 할 수록 규제가 많아진다?\n",
    "\n",
    "LinearSVR은 필요한 시간이 훈련 세트 크기에 비례해 선형적으로 늘어나지만\n",
    "SVR은 커질수록 훨씬 느려진다 (LinearSVC, SVC와 똑같음)"
   ]
  },
  {
   "cell_type": "code",
   "execution_count": 16,
   "id": "e20609d4",
   "metadata": {},
   "outputs": [
    {
     "data": {
      "text/plain": [
       "SVR(C=100, degree=2, kernel='poly')"
      ]
     },
     "execution_count": 16,
     "metadata": {},
     "output_type": "execute_result"
    }
   ],
   "source": [
    "from sklearn.svm import SVR\n",
    "\n",
    "svm_poly_reg = SVR(kernel=\"poly\", degree=2, C=100, epsilon=0.1)\n",
    "svm_poly_reg.fit(X, y)"
   ]
  },
  {
   "cell_type": "markdown",
   "id": "42cf4e5a",
   "metadata": {},
   "source": [
    "# SVM 이론"
   ]
  },
  {
   "cell_type": "raw",
   "id": "2fc6536c",
   "metadata": {},
   "source": [
    "표기 정리\n",
    "    b: 편향 (상수항)\n",
    "    bold w: 특성의 가중치 벡터 (편향 뺌)"
   ]
  },
  {
   "cell_type": "markdown",
   "id": "b76f7ca2",
   "metadata": {},
   "source": [
    "### 결정 함수와 예측"
   ]
  },
  {
   "cell_type": "raw",
   "id": "48f63cb3",
   "metadata": {},
   "source": [
    "선형 SVM 분류기 모델은 결정 함수 h = bold wT dot x + b를 계산해 새로운 샘플의 클래스를 예측하는 방식\n",
    "\n",
    "    h = bold wT dot x + b = w1x1 + w2x2 + ... + b\n",
    "    \n",
    "계산 결과가 0보다 작으면 y hat = 0, 0보다 크거나 같으면 y hat = 1라고 예측\n",
    "\n",
    "선형 SVM 분류기를 훈련한다는 것은\n",
    "마진 오류를 하나도 발생시키지 않거나 (하드 마진)\n",
    "제한적인 마진 오류를 가지면서 (소프트 마진)\n",
    "가능한 마진을 크게 하는 bold w, b를 찾는 것이다"
   ]
  },
  {
   "cell_type": "markdown",
   "id": "b99772db",
   "metadata": {},
   "source": [
    "### 목적 함수"
   ]
  },
  {
   "cell_type": "raw",
   "id": "c374ba9f",
   "metadata": {},
   "source": [
    "목적함수?\n",
    "    최적화하고자 하는 함수\n",
    "    ex. 경사하강법의 그래디언트 (그래디언트를 최소화하는 것이 경사하강법의 목적)\n",
    "\n",
    "결정 함수의 기울기는 가중치 벡터 ||bold w||의 노름과 같다 (l2 노름)\n",
    "이 기울기를 2로 나누면 결정 함수 마진의 최대/최소 범위가 결정 경계 (~원래 결정 함수)로부터 2배만큼 멀어진다\n",
    "    >>> (기울기 / 2)는 (마진 * 2)와 같은 효과\n",
    "    >>> bold w가 작을수록 마진은 커진다"
   ]
  },
  {
   "cell_type": "markdown",
   "id": "b27787ea",
   "metadata": {},
   "source": [
    "#### 하드 마진의 경우"
   ]
  },
  {
   "cell_type": "raw",
   "id": "ffdc9c85",
   "metadata": {},
   "source": [
    "SVM을 이용한 분류는 결정 경계와 클래스 집단 사이의 거리를 최대한 벌리는것이 목표\n",
    "    >>> == 마진을 최대한 크게 하는 것\n",
    "    >>> || bold w ||를 최소화하는 것\n",
    "\n",
    "이 때, 마진 오류를 하나도 만들지 않으려면 (즉, 하드 마진이라면) 모든 샘플에 대해 결정함수의 값이 마진보다 크거나(양성) 작아야 한다(음성) >>> 조건\n",
    "여기서\n",
    "    음성 샘플일 때 (y hat = 0) >>> ti = -마진 (결정함수 h=0로부터 음의 방향으로의 거리)\n",
    "    양성 샘플일 때 (y hat = 1) >>> ti = +마진 (결정함수 h=0로부터 양의 방향으로의 거리)\n",
    "라고 정의하면\n",
    "위에서 말한 \"조건\"은 모든 샘플에 대해\n",
    "    ti(bold wT dot xi + b) >= 마진 절대값\n",
    "과 같이 표현할 수 있다\n",
    "    \n",
    "    *** 음성일 때 bold wT dot xi + b <= 0, 양성일 때 bold wT dot xi + b >= 0\n",
    "\n",
    "그러므로 하드 마진 선형 SVM 분류기의 목적 함수를 다음과 같은 제약이 있는 최적화 문제로 표현할 수 있다\n",
    "\n",
    "    minimize(bold w, b) (1/2) * bold wT dot bold w\n",
    "    (조건: i: 1 ~ m일 때 ti(bold wT dot bold xi + b) >= 1)\n",
    "    >>> (1/2) * bold wT dot bold w를 최소화하는 (bold w, b) 조합을 찾아내는 것이 목표\n",
    "\n",
    "*** 아까는 ||bold w||를 최소화하는 것이 목적이라고 하지 않았나?\n",
    "    1. 결과는 같다\n",
    "    2. 하지만 위의 식이 더 다루기 쉽다 (||bold w||의 치환)\n",
    "    3. ||bold w||는 bold w = 0에서 미분 불가능하다\n"
   ]
  },
  {
   "cell_type": "markdown",
   "id": "b24b591a",
   "metadata": {},
   "source": [
    "#### 소프트 마진의 경우"
   ]
  },
  {
   "cell_type": "raw",
   "id": "238ad5c6",
   "metadata": {},
   "source": [
    "이 경우엔 목적함수를 구성하려면 각 샘플에 대해 슬랙 변수 ζi >= 0을 도입한다\n",
    "\n",
    "ζi ?\n",
    "    i번째 샘플이 얼마나 마진을 위반할지 정하는 것\n",
    "    >>> 그럼 이건 이상치를 얼마나 포용할지를 정하는 것인가?\n",
    "    \n",
    "소프트마진의 목표함수    \n",
    "    조건 1. 마진 오류를 최소화해야 한다\n",
    "    조건 2. (하드 마진과 똑같이) 1/2 bold wT dot bold w를 최소화해야 한다\n",
    "    >>> 여기서 하이퍼파라미터 C 등장\n",
    "    \n",
    "    위 두 조건을 모두 표현할 수 있도록 식으로 표현하면\n",
    "    \n",
    "        minimize(bold w, b, ζ) 1/2 bold wT dot bold w + CΣ(i=1 to m)ζi\n",
    "        (조건: i: 1 ~ m일 때, ti(bold wT dot bold xi + b) >= 1-ζi 이고 ζi >= 0)\n",
    "\n",
    "C가 커져도 종전과 똑같은 경계를 유지하기 위해선 ζi도 작아져야 할 것 >>> 마진 감소"
   ]
  },
  {
   "cell_type": "markdown",
   "id": "132d33b6",
   "metadata": {},
   "source": [
    "#### SVM 회귀의 경우"
   ]
  },
  {
   "cell_type": "raw",
   "id": "6b21afef",
   "metadata": {},
   "source": [
    "결정 경계의 양쪽으로 모든 샘플을 담기 위한 오차 폭을 두 개의 슬랙 변수 ζ, ζ* 라고 할 때, \n",
    "\n",
    "    1. yi - (bold wT dot bold xi + b) <= ε + ζ\n",
    "    2. (bold wT dot bold xi + b) - yi <= ε + ζi*\n",
    "    \n",
    "를 만족하는 목적 함수를 구성한다"
   ]
  },
  {
   "cell_type": "markdown",
   "id": "48ab2f13",
   "metadata": {},
   "source": [
    "### 콰드라틱 프로그래밍"
   ]
  },
  {
   "cell_type": "raw",
   "id": "dbc6d002",
   "metadata": {},
   "source": [
    "QP?\n",
    "    쉽게 말해 이차함수 최적화\n",
    "    \n",
    "하드 마진, 소프트 마진 둘 다 선형적인 제약 조건이 있는 볼록 함수의 이차 최적화 문제이기 때문에 QP 문제\n",
    "\n",
    "일반적인 공식\n",
    "    \n",
    "    minimize(p) 1/2 bold pT dot bold H dot bold p + bold fT dot bold p\n",
    "    \n",
    "    조건: bold A dot bold p <= bold b\n",
    "    \n",
    "    bold p: np 차원의 벡터\n",
    "    np: 모델 파라미터 수\n",
    "    bold H: np * np 크기 행렬\n",
    "    bold f: np 차원의 벡터\n",
    "    bold A: nc * np 크기 행렬\n",
    "    nc: 제약 수\n",
    "    bold b: nc 차원의 벡터\n",
    "    \n",
    "    여기서 bold A dot bold p <= bold b는 nc개의 제약을 정의하고 있다\n",
    "        \n",
    "        i: 1 ~ nc일 때 bold pT dot bold ai <= bi 인 제약이 있는 것\n",
    "        \n",
    "        bold ai: bold A의 i번째 행의 원소를 포함하는 벡터\n",
    "        bi: bold b의 i번째 원소\n",
    "    \n",
    "다음과 같이 QP 파라미터 지정 시 하드 마진을 갖는 선형 SVM 분류기의 목적 함수를 간단하게 검증할 수 있다?\n",
    "\n",
    "    np = n + 1 (n: 특성 수. +1은 편향)\n",
    "    nc = m (m: 훈련 샘플 수)\n",
    "    bold H = np * np 크기이고 왼쪽 맨 위의 원소가 0인 단위행렬 (편향을 제외하기 위해서 저쪽만 0)\n",
    "    bold f = 모두 0으로 채워진 np 차원의 벡터\n",
    "    bold b = 모두 1로 채워진 nc 차원의 벡터\n",
    "    ai = -ti bold x.i (bold x.i: 편향을 위해 특성 bold x.0=1을 추가한 bold xi와 같다)\n",
    "\n",
    "하드 마진 선형 SVM 분류기를 훈련시키는 한 가지 방법은 이미 준비되어 있는 QP 알고리즘에 관련 파라미터를 전달하면 된다?\n",
    "결과 벡터 bold p는 편향 b=p0와 특성 가중치 wi=pi(i: 1 ~ m)을 담고 있다?\n",
    "소프트 마진 문제에서도 QP 알고리즘을 사용할 수 있다\n",
    "하지만 커널 트릭을 사용하려면 제약이 있는 최적화 문제를 다른 형태로 바꿔야 한다?"
   ]
  },
  {
   "cell_type": "markdown",
   "id": "9773a9b7",
   "metadata": {},
   "source": [
    "### 쌍대 문제"
   ]
  },
  {
   "cell_type": "raw",
   "id": "cf856fcc",
   "metadata": {},
   "source": [
    "원 문제: 원래 풀려던 문제\n",
    "쌍대 문제: 원 문제와 연관된 다른 문제\n",
    "\n",
    "선형 SVM 목적 함수의 쌍대 형식\n",
    "\n",
    "    minimize(α) 1/2 Σ(i=1 to m) Σ(j=1 to m) αi αj ti tj bold xiT dot bold xj - Σ(i=1 to m) αi\n",
    "    \n",
    "    조건: i:1 ~ m일 때 αi >= 0\n",
    "\n",
    "위 식을 최소화하는 벡터 α hat을 찾았다면 다음 식을 사용해 원 문제의 식을 최소화하는 bold w hat과 b hat을 계산할 수 있다?\n",
    "\n",
    "    bold w hat = Σ(i=1 to m) αi hat ti xi\n",
    "    b hat = 1/ns Σ(i=1 to m) (ti - bold wT hat dot bold xi)\n",
    "    αi hat > 0\n",
    "    \n",
    "쌍대 문제를 풀어야 하는 이유?\n",
    "    1. 훈련 샘플 수가 특성 개수보다 작다면 쌍대 문제를 푸는 것이 더 빠르다\n",
    "    2. 커널 트릭을 쓸 수 있다 (원 문제에선 불가능)"
   ]
  },
  {
   "cell_type": "markdown",
   "id": "23241b05",
   "metadata": {},
   "source": [
    "### 커널 SVM"
   ]
  },
  {
   "cell_type": "markdown",
   "id": "6c311d00",
   "metadata": {},
   "source": [
    "$\\mathbf{\\hat{w}} = \\sum_{i=1}^m \\hat{\\alpha}^i t^i x^i $ <br>"
   ]
  },
  {
   "cell_type": "raw",
   "id": "0396aad4",
   "metadata": {},
   "source": [
    "2차 다항식 매핑\n",
    "    \n",
    "    ϕ(bold x) = ϕ((x1, x2)) = (x1^2 sqrt2 x1x2 x2^2)\n",
    "    >>> 2차원에서 3차원으로 변환됨\n",
    "\n",
    "두 개의 2차원 벡터에 다항식 매핑을 적용한 다음 변환된 벡터로 점곱을 할 경우\n",
    "\n",
    "    ϕ(bold aT) dot ϕ(bold b) \n",
    "        = (a1^2 sqrt2 a1a2 a2^2) dot (b1^2 sqrt2 b1b2 b^2)\n",
    "        = a1^2b1^2 2a1a2b1b2 a2^2b2^2\n",
    "        = (a1b1 + a2b2)^2\n",
    "        = (bold aT dot bold b)^2\n",
    "        \n",
    "    >>> ϕ(bold aT) dot ϕ(bold b) = (bold aT dot bold b)^2\n",
    "    >>> 다항식 특성을 추가하고자 한다면 굳이 변환할 필요 없이 원래 벡터를 이용해 계산만 하면 된다\n",
    "        *** 여기서 K(bold a, bold b) = (bold aT dot bold b)^2를 2차 다항식 커널이라고 한다\n",
    "\n",
    "머신러닝에서 커널은 변환을 하지 않고 (+ 변환 방법을 모르더라도) \n",
    "원래 벡터에 기반하여 ϕ(bold aT) dot ϕ(bold b)를 계산할 수 있는 함수이다.\n",
    "\n",
    "자주 쓰이는 커널\n",
    "\n",
    "    선형: K(a, b) = aT dot b\n",
    "    다항식: K(a, b) = (γaT dot b + r)^d (d: 차수. ex. d=2 >>> 2차)\n",
    "    가우시안 RBF: exp(-γ ||a-b||^2)\n",
    "    시그모이드: tanh(γaT dot b + r)\n",
    "    \n",
    "*** ϕ가 정확히 어떤 것인지는 몰라도 머서의 정리에 의해 ϕ가 있다는 것은 알수 있기에 K를 커널로 사용할 수 있다.\n",
    "    >>> 변환 과정이 어떻게 되는지는 몰라도, 변환하는 방법이 있고, 그 결과가 커널과 같기 때문에 신경쓰지 않아도 된다"
   ]
  },
  {
   "cell_type": "raw",
   "id": "d15eb49e",
   "metadata": {},
   "source": [
    "커널 트릭을 사용해 새로운 샘플 bold xn을 예측할 경우\n",
    "    h(bold w hat, b hat)(bold xn) >>> h(bold w hat, b hat)(ϕ(bold xn))\n",
    "이 되는데 이러면\n",
    "    bold wT hat dot ϕ(bold xn) + b hat\n",
    "이 될 테고 이러면 \n",
    "    bold w hat의 차원이 매우 커지거나\n",
    "    무한한 ϕ(bold xn)의 차원과 같아져야 할텐데 (\n",
    "    \n",
    "커널 트릭을 사용한다면 결국 예측 식에 ϕ(bold xi)를 포함해야 한다. \n",
    "bold w hat의 차원이 매우 크거나 무한한 ϕ(bold xi)의 차원과 같아져야 하므로 이를 계산할 수 없다. \n",
    "bold w hat을 모른 상태로 예측할 수 있는가?\n",
    "    >>>\n",
    "bold w hat에 대한 식을 새로운 샘플 bold xn의 결정 함수에 적용해서 입력 벡터 간의 점곱으로만 된 식을 얻을 수 있다."
   ]
  },
  {
   "cell_type": "raw",
   "id": "7bf509a9",
   "metadata": {},
   "source": [
    "말이 어려워서 그렇지\n",
    "커널 트릭을 사용하여 새로운 샘플을 예측하기 위해\n",
    "    0. h_{w hat, b hat} (psi(x new))를 그대로 쓰면 w hat T dot psi(x new) + b hat이 되니까 커널 트릭을 못쓰지만\n",
    "        >>> 벡터가 하나 더 필요하지만\n",
    "    1. h의 x 자리에 psi(새로운 샘플)을 넣고\n",
    "    2. 가중치 벡터 w hat 자리에 위에서 구한 식 sigma(i=1 to m) alpha hat i ti xi를 넣고\n",
    "    3. 이를 커널 형태로 쓸 수 있게 식을 변형하면 된다\n",
    "는 말 같은데\n",
    "\n",
    "*** b hat도 앞에서 구한 식을 이용해 적절히 변형하면 커널 트릭을 사용할 수 있는 형태로 식을 변형해서 구하고"
   ]
  },
  {
   "cell_type": "markdown",
   "id": "ba3ad47a",
   "metadata": {},
   "source": [
    "### 온라인 SVM"
   ]
  },
  {
   "cell_type": "raw",
   "id": "9c4d477c",
   "metadata": {},
   "source": [
    "*** 선형 분류기일 경우\n",
    "\n",
    "한 가지 방법은 경사하강법을 쓰는 것\n",
    "\n",
    "    ex. 선형 SVM 분류기의 비용함수 J(w, b) = 1/2 wT dot w + C sigma(i=1 to m) max(0, 1, -ti(wT dot xi + b)) 활용\n",
    "        1/2 wT dot w >>> 가중치 벡터 w 최소화\n",
    "        C sigma(i=1 to m) max(0, 1, -ti(wT dot xi + b)) >>> 모든 마진 오류 계산\n",
    "\n",
    "*** 힌지 손실\n",
    "    max(0, 1, -t) 함수\n",
    "    \n",
    "    t >= 1일 때 0\n",
    "    t < 1일 때 도함수는 1"
   ]
  },
  {
   "cell_type": "code",
   "execution_count": null,
   "id": "08219355",
   "metadata": {},
   "outputs": [],
   "source": []
  }
 ],
 "metadata": {
  "kernelspec": {
   "display_name": "Python 3 (ipykernel)",
   "language": "python",
   "name": "python3"
  },
  "language_info": {
   "codemirror_mode": {
    "name": "ipython",
    "version": 3
   },
   "file_extension": ".py",
   "mimetype": "text/x-python",
   "name": "python",
   "nbconvert_exporter": "python",
   "pygments_lexer": "ipython3",
   "version": "3.8.8"
  }
 },
 "nbformat": 4,
 "nbformat_minor": 5
}
