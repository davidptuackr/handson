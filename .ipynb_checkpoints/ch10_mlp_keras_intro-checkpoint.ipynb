{
 "cells": [
  {
   "cell_type": "markdown",
   "id": "64d1d12d-c384-4596-9eda-d93d72013e5c",
   "metadata": {},
   "source": [
    "# ch10. mlp, keras intro"
   ]
  },
  {
   "cell_type": "markdown",
   "id": "36d6e9cd-00ee-4edf-ad74-4691d9810ecf",
   "metadata": {},
   "source": [
    "## 10.2 MLP with keras"
   ]
  },
  {
   "cell_type": "markdown",
   "id": "3f5b3d3c-ff6b-4623-98f1-ecbf37ef93da",
   "metadata": {},
   "source": [
    "### 10.2.1 MLP for Classification"
   ]
  },
  {
   "cell_type": "code",
   "execution_count": 1,
   "id": "f9605009-7281-49cc-86c0-7d9f17bcecd6",
   "metadata": {},
   "outputs": [
    {
     "name": "stdout",
     "output_type": "stream",
     "text": [
      "WARNING:tensorflow:From C:\\Users\\davidbowman\\anaconda3\\Lib\\site-packages\\keras\\src\\losses.py:2976: The name tf.losses.sparse_softmax_cross_entropy is deprecated. Please use tf.compat.v1.losses.sparse_softmax_cross_entropy instead.\n",
      "\n"
     ]
    }
   ],
   "source": [
    "import tensorflow as tf"
   ]
  },
  {
   "cell_type": "code",
   "execution_count": 2,
   "id": "5097704f-7e00-4a88-809a-1739228a8a43",
   "metadata": {},
   "outputs": [],
   "source": [
    "fashion_mnist = tf.keras.datasets.fashion_mnist.load_data()\n",
    "\n",
    "(X_train_full, y_train_full), (X_test, y_test) = fashion_mnist\n",
    "X_train, y_train = X_train_full[ : -5000], y_train_full[ : -5000]\n",
    "X_valid, y_valid = X_train_full[-5000 : ], y_train_full[-5000 : ]"
   ]
  },
  {
   "cell_type": "code",
   "execution_count": 3,
   "id": "47c9beca-f2c1-4a8b-8791-80838dce5161",
   "metadata": {},
   "outputs": [],
   "source": [
    "X_train, X_valid, X_test = X_train / 255., X_valid / 255., X_test / 255."
   ]
  },
  {
   "cell_type": "code",
   "execution_count": 4,
   "id": "ad55cf31-c0de-49f4-aae1-33e9611a7d11",
   "metadata": {},
   "outputs": [],
   "source": [
    "class_names = [\n",
    "    \"T-shirt/top\", \"Trouser\", \"Pullover\", \"Dress\", \"Coat\", \n",
    "    \"Sandal\", \"Shirt\", \"Sneaker\", \"Bag\", \"Ankle boot\"\n",
    "]"
   ]
  },
  {
   "cell_type": "code",
   "execution_count": 5,
   "id": "4e299407-a3b5-4c2b-a692-291703b5cc02",
   "metadata": {},
   "outputs": [
    {
     "data": {
      "text/plain": [
       "'Ankle boot'"
      ]
     },
     "execution_count": 5,
     "metadata": {},
     "output_type": "execute_result"
    }
   ],
   "source": [
    "class_names[y_train[0]]"
   ]
  },
  {
   "cell_type": "code",
   "execution_count": 6,
   "id": "c74c138b-18b7-44f4-ab2a-8f8c4b5cfb7d",
   "metadata": {},
   "outputs": [
    {
     "name": "stdout",
     "output_type": "stream",
     "text": [
      "WARNING:tensorflow:From C:\\Users\\davidbowman\\anaconda3\\Lib\\site-packages\\keras\\src\\backend.py:873: The name tf.get_default_graph is deprecated. Please use tf.compat.v1.get_default_graph instead.\n",
      "\n"
     ]
    }
   ],
   "source": [
    "tf.random.set_seed(42)\n",
    "\n",
    "model = tf.keras.Sequential()\n",
    "model.add(tf.keras.layers.Input(shape=[28, 28]))\n",
    "model.add(tf.keras.layers.Flatten())\n",
    "model.add(tf.keras.layers.Dense(300, activation='relu'))\n",
    "model.add(tf.keras.layers.Dense(100, activation='relu'))\n",
    "model.add(tf.keras.layers.Dense(10, activation='softmax'))"
   ]
  },
  {
   "cell_type": "code",
   "execution_count": 7,
   "id": "d55c3107-79ba-4808-8320-3bf19b25c0ac",
   "metadata": {},
   "outputs": [
    {
     "name": "stdout",
     "output_type": "stream",
     "text": [
      "Model: \"sequential\"\n",
      "_________________________________________________________________\n",
      " Layer (type)                Output Shape              Param #   \n",
      "=================================================================\n",
      " flatten (Flatten)           (None, 784)               0         \n",
      "                                                                 \n",
      " dense (Dense)               (None, 300)               235500    \n",
      "                                                                 \n",
      " dense_1 (Dense)             (None, 100)               30100     \n",
      "                                                                 \n",
      " dense_2 (Dense)             (None, 10)                1010      \n",
      "                                                                 \n",
      "=================================================================\n",
      "Total params: 266610 (1.02 MB)\n",
      "Trainable params: 266610 (1.02 MB)\n",
      "Non-trainable params: 0 (0.00 Byte)\n",
      "_________________________________________________________________\n"
     ]
    }
   ],
   "source": [
    "model.summary()"
   ]
  },
  {
   "cell_type": "raw",
   "id": "aa5ff448-3767-4154-ae31-2cc9ad80b0b9",
   "metadata": {},
   "source": [
    "tf.keras.utils.plot_model(model)"
   ]
  },
  {
   "cell_type": "code",
   "execution_count": 8,
   "id": "3f74b47b-b9df-4707-8158-e08c49b3c164",
   "metadata": {},
   "outputs": [
    {
     "name": "stdout",
     "output_type": "stream",
     "text": [
      "WARNING:tensorflow:From C:\\Users\\davidbowman\\anaconda3\\Lib\\site-packages\\keras\\src\\optimizers\\__init__.py:309: The name tf.train.Optimizer is deprecated. Please use tf.compat.v1.train.Optimizer instead.\n",
      "\n"
     ]
    }
   ],
   "source": [
    "model.compile(\n",
    "    loss=\"sparse_categorical_crossentropy\",\n",
    "    optimizer=\"sgd\",\n",
    "    metrics=[\"accuracy\"]\n",
    ")"
   ]
  },
  {
   "cell_type": "code",
   "execution_count": 9,
   "id": "9d722651-5052-4aab-9dd1-57e8b74dc2e2",
   "metadata": {},
   "outputs": [
    {
     "name": "stdout",
     "output_type": "stream",
     "text": [
      "Epoch 1/30\n",
      "WARNING:tensorflow:From C:\\Users\\davidbowman\\anaconda3\\Lib\\site-packages\\keras\\src\\utils\\tf_utils.py:492: The name tf.ragged.RaggedTensorValue is deprecated. Please use tf.compat.v1.ragged.RaggedTensorValue instead.\n",
      "\n",
      "WARNING:tensorflow:From C:\\Users\\davidbowman\\anaconda3\\Lib\\site-packages\\keras\\src\\engine\\base_layer_utils.py:384: The name tf.executing_eagerly_outside_functions is deprecated. Please use tf.compat.v1.executing_eagerly_outside_functions instead.\n",
      "\n",
      "1719/1719 [==============================] - 3s 1ms/step - loss: 0.7290 - accuracy: 0.7597 - val_loss: 0.5107 - val_accuracy: 0.8288\n",
      "Epoch 2/30\n",
      "1719/1719 [==============================] - 2s 1ms/step - loss: 0.4922 - accuracy: 0.8297 - val_loss: 0.4660 - val_accuracy: 0.8306\n",
      "Epoch 3/30\n",
      "1719/1719 [==============================] - 2s 1ms/step - loss: 0.4444 - accuracy: 0.8447 - val_loss: 0.4280 - val_accuracy: 0.8494\n",
      "Epoch 4/30\n",
      "1719/1719 [==============================] - 2s 1ms/step - loss: 0.4192 - accuracy: 0.8531 - val_loss: 0.4015 - val_accuracy: 0.8586\n",
      "Epoch 5/30\n",
      "1719/1719 [==============================] - 2s 1ms/step - loss: 0.3985 - accuracy: 0.8603 - val_loss: 0.3957 - val_accuracy: 0.8584\n",
      "Epoch 6/30\n",
      "1719/1719 [==============================] - 2s 1ms/step - loss: 0.3820 - accuracy: 0.8660 - val_loss: 0.3939 - val_accuracy: 0.8592\n",
      "Epoch 7/30\n",
      "1719/1719 [==============================] - 2s 1ms/step - loss: 0.3694 - accuracy: 0.8697 - val_loss: 0.3755 - val_accuracy: 0.8676\n",
      "Epoch 8/30\n",
      "1719/1719 [==============================] - 2s 1ms/step - loss: 0.3578 - accuracy: 0.8735 - val_loss: 0.3761 - val_accuracy: 0.8616\n",
      "Epoch 9/30\n",
      "1719/1719 [==============================] - 2s 1ms/step - loss: 0.3467 - accuracy: 0.8780 - val_loss: 0.3536 - val_accuracy: 0.8732\n",
      "Epoch 10/30\n",
      "1719/1719 [==============================] - 2s 1ms/step - loss: 0.3363 - accuracy: 0.8793 - val_loss: 0.3540 - val_accuracy: 0.8720\n",
      "Epoch 11/30\n",
      "1719/1719 [==============================] - 2s 1ms/step - loss: 0.3271 - accuracy: 0.8835 - val_loss: 0.3677 - val_accuracy: 0.8636\n",
      "Epoch 12/30\n",
      "1719/1719 [==============================] - 2s 1ms/step - loss: 0.3189 - accuracy: 0.8857 - val_loss: 0.3456 - val_accuracy: 0.8712\n",
      "Epoch 13/30\n",
      "1719/1719 [==============================] - 2s 1ms/step - loss: 0.3111 - accuracy: 0.8899 - val_loss: 0.3310 - val_accuracy: 0.8760\n",
      "Epoch 14/30\n",
      "1719/1719 [==============================] - 2s 1ms/step - loss: 0.3037 - accuracy: 0.8912 - val_loss: 0.3452 - val_accuracy: 0.8754\n",
      "Epoch 15/30\n",
      "1719/1719 [==============================] - 2s 1ms/step - loss: 0.2976 - accuracy: 0.8936 - val_loss: 0.3380 - val_accuracy: 0.8798\n",
      "Epoch 16/30\n",
      "1719/1719 [==============================] - 2s 1ms/step - loss: 0.2904 - accuracy: 0.8961 - val_loss: 0.3302 - val_accuracy: 0.8784\n",
      "Epoch 17/30\n",
      "1719/1719 [==============================] - 2s 1ms/step - loss: 0.2850 - accuracy: 0.8980 - val_loss: 0.3360 - val_accuracy: 0.8792\n",
      "Epoch 18/30\n",
      "1719/1719 [==============================] - 2s 1ms/step - loss: 0.2792 - accuracy: 0.9002 - val_loss: 0.3270 - val_accuracy: 0.8838\n",
      "Epoch 19/30\n",
      "1719/1719 [==============================] - 2s 1ms/step - loss: 0.2740 - accuracy: 0.9021 - val_loss: 0.3593 - val_accuracy: 0.8650\n",
      "Epoch 20/30\n",
      "1719/1719 [==============================] - 2s 1ms/step - loss: 0.2692 - accuracy: 0.9033 - val_loss: 0.3228 - val_accuracy: 0.8808\n",
      "Epoch 21/30\n",
      "1719/1719 [==============================] - 2s 1ms/step - loss: 0.2639 - accuracy: 0.9055 - val_loss: 0.3158 - val_accuracy: 0.8818\n",
      "Epoch 22/30\n",
      "1719/1719 [==============================] - 2s 1ms/step - loss: 0.2587 - accuracy: 0.9063 - val_loss: 0.3187 - val_accuracy: 0.8822\n",
      "Epoch 23/30\n",
      "1719/1719 [==============================] - 2s 1ms/step - loss: 0.2547 - accuracy: 0.9083 - val_loss: 0.3439 - val_accuracy: 0.8762\n",
      "Epoch 24/30\n",
      "1719/1719 [==============================] - 2s 1ms/step - loss: 0.2495 - accuracy: 0.9114 - val_loss: 0.3230 - val_accuracy: 0.8806\n",
      "Epoch 25/30\n",
      "1719/1719 [==============================] - 2s 1ms/step - loss: 0.2457 - accuracy: 0.9118 - val_loss: 0.3172 - val_accuracy: 0.8832\n",
      "Epoch 26/30\n",
      "1719/1719 [==============================] - 2s 1ms/step - loss: 0.2416 - accuracy: 0.9133 - val_loss: 0.3155 - val_accuracy: 0.8840\n",
      "Epoch 27/30\n",
      "1719/1719 [==============================] - 2s 1ms/step - loss: 0.2363 - accuracy: 0.9144 - val_loss: 0.3286 - val_accuracy: 0.8830\n",
      "Epoch 28/30\n",
      "1719/1719 [==============================] - 2s 1ms/step - loss: 0.2331 - accuracy: 0.9166 - val_loss: 0.3227 - val_accuracy: 0.8838\n",
      "Epoch 29/30\n",
      "1719/1719 [==============================] - 2s 1ms/step - loss: 0.2294 - accuracy: 0.9171 - val_loss: 0.3217 - val_accuracy: 0.8852\n",
      "Epoch 30/30\n",
      "1719/1719 [==============================] - 2s 1ms/step - loss: 0.2257 - accuracy: 0.9193 - val_loss: 0.3122 - val_accuracy: 0.8858\n"
     ]
    }
   ],
   "source": [
    "history = model.fit(\n",
    "    X_train, y_train, epochs=30,\n",
    "    validation_data=(X_valid, y_valid)\n",
    ")"
   ]
  },
  {
   "cell_type": "code",
   "execution_count": 10,
   "id": "ba219c8c-9c8f-493c-a202-3b386f32655c",
   "metadata": {},
   "outputs": [
    {
     "data": {
      "image/png": "[encoded data removed]",
      "text/plain": [
       "<Figure size 800x500 with 1 Axes>"
      ]
     },
     "metadata": {},
     "output_type": "display_data"
    }
   ],
   "source": [
    "import matplotlib.pyplot as plt\n",
    "import pandas as pd\n",
    "\n",
    "pd.DataFrame(history.history).plot(\n",
    "    figsize=(8, 5), xlim=[0, 29], ylim=[0, 1],\n",
    "    grid=True, \n",
    "    xlabel=\"epoch\", \n",
    "    style=[\"r--\", \"r-^\", \"b-\", \"b-*\"]\n",
    ")\n",
    "\n",
    "plt.show()"
   ]
  },
  {
   "cell_type": "code",
   "execution_count": 11,
   "id": "1941e438-8ef8-420a-96ef-a6ff37ac8301",
   "metadata": {},
   "outputs": [
    {
     "name": "stdout",
     "output_type": "stream",
     "text": [
      "313/313 [==============================] - 0s 771us/step - loss: 0.3228 - accuracy: 0.8848\n"
     ]
    },
    {
     "data": {
      "text/plain": [
       "[0.3228447139263153, 0.8848000168800354]"
      ]
     },
     "execution_count": 11,
     "metadata": {},
     "output_type": "execute_result"
    }
   ],
   "source": [
    "model.evaluate(X_test, y_test)"
   ]
  },
  {
   "cell_type": "code",
   "execution_count": 12,
   "id": "e24149f1-3f68-4982-91c7-511ea32f9eed",
   "metadata": {},
   "outputs": [
    {
     "name": "stdout",
     "output_type": "stream",
     "text": [
      "1/1 [==============================] - 0s 66ms/step\n"
     ]
    },
    {
     "data": {
      "text/plain": [
       "array([[0.  , 0.  , 0.  , 0.  , 0.  , 0.02, 0.  , 0.04, 0.  , 0.94],\n",
       "       [0.  , 0.  , 1.  , 0.  , 0.  , 0.  , 0.  , 0.  , 0.  , 0.  ],\n",
       "       [0.  , 1.  , 0.  , 0.  , 0.  , 0.  , 0.  , 0.  , 0.  , 0.  ]],\n",
       "      dtype=float32)"
      ]
     },
     "execution_count": 12,
     "metadata": {},
     "output_type": "execute_result"
    }
   ],
   "source": [
    "X_new = X_test[ : 3]\n",
    "y_proba = model.predict(X_new)\n",
    "y_proba.round(2)"
   ]
  },
  {
   "cell_type": "code",
   "execution_count": 13,
   "id": "0f086291-c99f-48e3-842e-75fb72457920",
   "metadata": {},
   "outputs": [],
   "source": [
    "import numpy as np"
   ]
  },
  {
   "cell_type": "code",
   "execution_count": 14,
   "id": "6560c784-8bf3-4b2b-91dc-aa9fbfe6f99f",
   "metadata": {},
   "outputs": [
    {
     "name": "stdout",
     "output_type": "stream",
     "text": [
      "1/1 [==============================] - 0s 14ms/step\n",
      "Ankle boot Pullover Trouser\n"
     ]
    }
   ],
   "source": [
    "X_new = X_test[ : 3]\n",
    "y_proba = model.predict(X_new)\n",
    "print(*[class_names[i.argmax()] for i in y_proba.round(2)])"
   ]
  },
  {
   "cell_type": "code",
   "execution_count": 15,
   "id": "303e0dca-1f63-4770-bd2d-f0a19591f87a",
   "metadata": {},
   "outputs": [
    {
     "data": {
      "image/png": "[encoded data removed]",
      "text/plain": [
       "<Figure size 640x480 with 3 Axes>"
      ]
     },
     "metadata": {},
     "output_type": "display_data"
    }
   ],
   "source": [
    "_, axes = plt.subplots(3)\n",
    "\n",
    "for x, ax in zip(X_new, axes):\n",
    "    ax.imshow(x)"
   ]
  },
  {
   "cell_type": "markdown",
   "id": "1fcc765c-6b26-41b1-bf50-ec210f70e4f1",
   "metadata": {},
   "source": [
    "### 10.2.2 MLP for regression"
   ]
  },
  {
   "cell_type": "code",
   "execution_count": 16,
   "id": "21b112d2-4010-44c9-94e9-ea3573e94ae2",
   "metadata": {},
   "outputs": [],
   "source": [
    "from sklearn.datasets import fetch_california_housing\n",
    "from sklearn.model_selection import train_test_split"
   ]
  },
  {
   "cell_type": "code",
   "execution_count": 17,
   "id": "5c20fba1-b44b-4344-a534-db20042b9135",
   "metadata": {},
   "outputs": [],
   "source": [
    "housing = fetch_california_housing()\n",
    "\n",
    "X_train_full, X_test, y_train_full, y_test = train_test_split(housing.data, housing.target, random_state=42)\n",
    "X_train, X_valid, y_train, y_valid = train_test_split(X_train_full, y_train_full, random_state=42)"
   ]
  },
  {
   "cell_type": "code",
   "execution_count": 18,
   "id": "b32eabae-e873-475e-a369-b572e84bee24",
   "metadata": {},
   "outputs": [],
   "source": [
    "tf.random.set_seed(42)\n",
    "\n",
    "norm_layer = tf.keras.layers.Normalization(input_shape=X_train.shape[1 : ])\n",
    "\n",
    "model = tf.keras.Sequential([\n",
    "    norm_layer,\n",
    "    tf.keras.layers.Dense(50, activation='relu'),\n",
    "    tf.keras.layers.Dense(50, activation='relu'),\n",
    "    tf.keras.layers.Dense(50, activation='relu'),\n",
    "    tf.keras.layers.Dense(1)\n",
    "])\n",
    "\n",
    "optimizer = tf.keras.optimizers.Adam(learning_rate=1e-3)\n",
    "model.compile(loss=\"mse\", optimizer=optimizer, metrics=[\"RootMeanSquaredError\"])\n",
    "\n",
    "norm_layer.adapt(X_train)"
   ]
  },
  {
   "cell_type": "code",
   "execution_count": 19,
   "id": "14494225-a411-4081-a4aa-d4c3b995d55d",
   "metadata": {},
   "outputs": [
    {
     "name": "stdout",
     "output_type": "stream",
     "text": [
      "Epoch 1/20\n",
      "363/363 [==============================] - 1s 1ms/step - loss: 0.8373 - root_mean_squared_error: 0.9150 - val_loss: 0.4245 - val_root_mean_squared_error: 0.6515\n",
      "Epoch 2/20\n",
      "363/363 [==============================] - 0s 1ms/step - loss: 0.3830 - root_mean_squared_error: 0.6189 - val_loss: 0.8364 - val_root_mean_squared_error: 0.9145\n",
      "Epoch 3/20\n",
      "363/363 [==============================] - 0s 986us/step - loss: 0.3576 - root_mean_squared_error: 0.5980 - val_loss: 0.3215 - val_root_mean_squared_error: 0.5670\n",
      "Epoch 4/20\n",
      "363/363 [==============================] - 0s 1ms/step - loss: 0.3419 - root_mean_squared_error: 0.5847 - val_loss: 0.5877 - val_root_mean_squared_error: 0.7666\n",
      "Epoch 5/20\n",
      "363/363 [==============================] - 0s 1ms/step - loss: 0.3299 - root_mean_squared_error: 0.5744 - val_loss: 0.5638 - val_root_mean_squared_error: 0.7508\n",
      "Epoch 6/20\n",
      "363/363 [==============================] - 0s 998us/step - loss: 0.3206 - root_mean_squared_error: 0.5662 - val_loss: 0.3266 - val_root_mean_squared_error: 0.5715\n",
      "Epoch 7/20\n",
      "363/363 [==============================] - 0s 1ms/step - loss: 0.3104 - root_mean_squared_error: 0.5572 - val_loss: 0.6270 - val_root_mean_squared_error: 0.7918\n",
      "Epoch 8/20\n",
      "363/363 [==============================] - 0s 1ms/step - loss: 0.3043 - root_mean_squared_error: 0.5517 - val_loss: 0.4446 - val_root_mean_squared_error: 0.6668\n",
      "Epoch 9/20\n",
      "363/363 [==============================] - 0s 981us/step - loss: 0.3015 - root_mean_squared_error: 0.5491 - val_loss: 1.2334 - val_root_mean_squared_error: 1.1106\n",
      "Epoch 10/20\n",
      "363/363 [==============================] - 0s 1ms/step - loss: 0.3009 - root_mean_squared_error: 0.5485 - val_loss: 0.2922 - val_root_mean_squared_error: 0.5405\n",
      "Epoch 11/20\n",
      "363/363 [==============================] - 0s 986us/step - loss: 0.2890 - root_mean_squared_error: 0.5375 - val_loss: 0.7383 - val_root_mean_squared_error: 0.8593\n",
      "Epoch 12/20\n",
      "363/363 [==============================] - 0s 1ms/step - loss: 0.3047 - root_mean_squared_error: 0.5520 - val_loss: 1.1142 - val_root_mean_squared_error: 1.0556\n",
      "Epoch 13/20\n",
      "363/363 [==============================] - 0s 979us/step - loss: 0.2944 - root_mean_squared_error: 0.5426 - val_loss: 0.2815 - val_root_mean_squared_error: 0.5306\n",
      "Epoch 14/20\n",
      "363/363 [==============================] - 0s 993us/step - loss: 0.2834 - root_mean_squared_error: 0.5323 - val_loss: 0.3159 - val_root_mean_squared_error: 0.5620\n",
      "Epoch 15/20\n",
      "363/363 [==============================] - 0s 997us/step - loss: 0.2841 - root_mean_squared_error: 0.5330 - val_loss: 0.3294 - val_root_mean_squared_error: 0.5739\n",
      "Epoch 16/20\n",
      "363/363 [==============================] - 0s 994us/step - loss: 0.2808 - root_mean_squared_error: 0.5299 - val_loss: 0.6387 - val_root_mean_squared_error: 0.7992\n",
      "Epoch 17/20\n",
      "363/363 [==============================] - 0s 981us/step - loss: 0.2800 - root_mean_squared_error: 0.5291 - val_loss: 0.2756 - val_root_mean_squared_error: 0.5250\n",
      "Epoch 18/20\n",
      "363/363 [==============================] - 0s 999us/step - loss: 0.2719 - root_mean_squared_error: 0.5215 - val_loss: 0.4233 - val_root_mean_squared_error: 0.6506\n",
      "Epoch 19/20\n",
      "363/363 [==============================] - 0s 991us/step - loss: 0.2714 - root_mean_squared_error: 0.5209 - val_loss: 0.3196 - val_root_mean_squared_error: 0.5653\n",
      "Epoch 20/20\n",
      "363/363 [==============================] - 0s 990us/step - loss: 0.2704 - root_mean_squared_error: 0.5200 - val_loss: 0.4634 - val_root_mean_squared_error: 0.6807\n"
     ]
    }
   ],
   "source": [
    "history = model.fit(\n",
    "    X_train, y_train, epochs=20,\n",
    "    validation_data=(X_valid, y_valid)\n",
    ")"
   ]
  },
  {
   "cell_type": "code",
   "execution_count": 20,
   "id": "a235fe8e-a26e-4c97-8713-34527adee753",
   "metadata": {},
   "outputs": [
    {
     "name": "stdout",
     "output_type": "stream",
     "text": [
      "162/162 [==============================] - 0s 629us/step - loss: 0.2806 - root_mean_squared_error: 0.5297\n",
      "1/1 [==============================] - 0s 62ms/step\n"
     ]
    }
   ],
   "source": [
    "mse_test, rmse_test = model.evaluate(X_test, y_test)\n",
    "X_new = X_test[ : 3]\n",
    "y_pred = model.predict(X_new)"
   ]
  },
  {
   "cell_type": "code",
   "execution_count": 21,
   "id": "f1722dec-3388-4ff2-8075-b0ef638eb72e",
   "metadata": {},
   "outputs": [
    {
     "data": {
      "image/png": "[encoded data removed]",
      "text/plain": [
       "<Figure size 800x500 with 1 Axes>"
      ]
     },
     "metadata": {},
     "output_type": "display_data"
    }
   ],
   "source": [
    "pd.DataFrame(history.history).plot(\n",
    "    figsize=(8, 5), xlim=[0, 19], ylim=[0, 1],\n",
    "    grid=True, \n",
    "    xlabel=\"epoch\", \n",
    "    style=[\"r--\", \"r-^\", \"b-\", \"b-*\"]\n",
    ")\n",
    "\n",
    "plt.show()"
   ]
  },
  {
   "cell_type": "code",
   "execution_count": 22,
   "id": "f15ba020-b5b5-42f7-bb6e-f02821a39a99",
   "metadata": {},
   "outputs": [
    {
     "data": {
      "text/plain": [
       "(8,)"
      ]
     },
     "execution_count": 22,
     "metadata": {},
     "output_type": "execute_result"
    }
   ],
   "source": [
    "X_train.shape[1:]"
   ]
  },
  {
   "cell_type": "markdown",
   "id": "f6fe5873-4a40-4bee-bdca-55048bd1d9c4",
   "metadata": {},
   "source": [
    "### 10.2.3 함수형 API, 와이드 앤 딥"
   ]
  },
  {
   "cell_type": "code",
   "execution_count": 23,
   "id": "636bc684-b3fe-4a49-9c23-f475dbfce85f",
   "metadata": {},
   "outputs": [],
   "source": [
    "norm_layer = tf.keras.layers.Normalization()\n",
    "\n",
    "hidden_layer1 = tf.keras.layers.Dense(30, activation='relu')\n",
    "hidden_layer2 = tf.keras.layers.Dense(30, activation='relu')\n",
    "concat_layer = tf.keras.layers.Concatenate()\n",
    "output_layer = tf.keras.layers.Dense(1)\n",
    "\n",
    "input_ = tf.keras.layers.Input(shape=X_train.shape[1:])\n",
    "normalized = norm_layer(input_)\n",
    "hidden1 = hidden_layer1(normalized)\n",
    "hidden2 = hidden_layer2(hidden1)\n",
    "concat = concat_layer([normalized, hidden2])\n",
    "output = output_layer(concat)\n",
    "\n",
    "model = tf.keras.Model(inputs=[input_], outputs=[output])"
   ]
  },
  {
   "cell_type": "code",
   "execution_count": 24,
   "id": "1a4eda21-971a-49ed-962e-66d4de8ea060",
   "metadata": {},
   "outputs": [],
   "source": [
    "input_wide = tf.keras.layers.Input(shape=[5])\n",
    "input_deep = tf.keras.layers.Input(shape=[6])\n",
    "norm_layer_wide = tf.keras.layers.Normalization()\n",
    "norm_layer_deep = tf.keras.layers.Normalization()\n",
    "norm_wide = norm_layer_wide(input_wide)\n",
    "norm_deep = norm_layer_deep(input_deep)\n",
    "hidden1 = tf.keras.layers.Dense(30, activation='relu')(norm_deep)\n",
    "hidden2 = tf.keras.layers.Dense(30, activation='relu')(hidden1)\n",
    "concat = tf.keras.layers.concatenate([norm_wide, hidden2])\n",
    "output = tf.keras.layers.Dense(1)(concat)\n",
    "model = tf.keras.Model(inputs=[input_wide, input_deep], outputs=[output])\n",
    "\n",
    "# optimizer\n",
    "# compile(optimizer)\n",
    "# norm adapt\n",
    "\n",
    "# fit"
   ]
  },
  {
   "cell_type": "raw",
   "id": "c04d965c-6eb8-4180-a3ac-0474616af873",
   "metadata": {},
   "source": [
    "class의 __call__을 정의했다면\n",
    "dense_1(*args, **kwargs)처럼 클래스를 호출했을 때 할 일을 정할 수 있다\n",
    "이 때 함수로 넘기는 값은 args, kwargs"
   ]
  },
  {
   "cell_type": "code",
   "execution_count": 25,
   "id": "02950ee2-3777-4071-9e5c-d656f733641b",
   "metadata": {},
   "outputs": [
    {
     "name": "stdout",
     "output_type": "stream",
     "text": [
      "Epoch 1/20\n",
      "363/363 [==============================] - 1s 1ms/step - loss: 1.2169 - root_mean_squared_error: 1.1031 - val_loss: 0.7314 - val_root_mean_squared_error: 0.8552\n",
      "Epoch 2/20\n",
      "363/363 [==============================] - 0s 999us/step - loss: 0.4619 - root_mean_squared_error: 0.6796 - val_loss: 1.1024 - val_root_mean_squared_error: 1.0500\n",
      "Epoch 3/20\n",
      "363/363 [==============================] - 0s 990us/step - loss: 0.4191 - root_mean_squared_error: 0.6474 - val_loss: 0.3961 - val_root_mean_squared_error: 0.6294\n",
      "Epoch 4/20\n",
      "363/363 [==============================] - 0s 995us/step - loss: 0.3962 - root_mean_squared_error: 0.6294 - val_loss: 0.6904 - val_root_mean_squared_error: 0.8309\n",
      "Epoch 5/20\n",
      "363/363 [==============================] - 0s 978us/step - loss: 0.3896 - root_mean_squared_error: 0.6242 - val_loss: 0.8043 - val_root_mean_squared_error: 0.8969\n",
      "Epoch 6/20\n",
      "363/363 [==============================] - 0s 977us/step - loss: 0.3809 - root_mean_squared_error: 0.6172 - val_loss: 2.2126 - val_root_mean_squared_error: 1.4875\n",
      "Epoch 7/20\n",
      "363/363 [==============================] - 0s 1ms/step - loss: 0.3807 - root_mean_squared_error: 0.6170 - val_loss: 1.0219 - val_root_mean_squared_error: 1.0109\n",
      "Epoch 8/20\n",
      "363/363 [==============================] - 0s 995us/step - loss: 0.3669 - root_mean_squared_error: 0.6057 - val_loss: 2.0298 - val_root_mean_squared_error: 1.4247\n",
      "Epoch 9/20\n",
      "363/363 [==============================] - 0s 987us/step - loss: 0.3630 - root_mean_squared_error: 0.6025 - val_loss: 1.1938 - val_root_mean_squared_error: 1.0926\n",
      "Epoch 10/20\n",
      "363/363 [==============================] - 0s 999us/step - loss: 0.3629 - root_mean_squared_error: 0.6024 - val_loss: 1.1265 - val_root_mean_squared_error: 1.0614\n",
      "Epoch 11/20\n",
      "363/363 [==============================] - 0s 982us/step - loss: 0.3495 - root_mean_squared_error: 0.5912 - val_loss: 0.3597 - val_root_mean_squared_error: 0.5997\n",
      "Epoch 12/20\n",
      "363/363 [==============================] - 0s 989us/step - loss: 0.3493 - root_mean_squared_error: 0.5910 - val_loss: 0.7199 - val_root_mean_squared_error: 0.8485\n",
      "Epoch 13/20\n",
      "363/363 [==============================] - 0s 986us/step - loss: 0.3419 - root_mean_squared_error: 0.5847 - val_loss: 0.4520 - val_root_mean_squared_error: 0.6723\n",
      "Epoch 14/20\n",
      "363/363 [==============================] - 0s 996us/step - loss: 0.3380 - root_mean_squared_error: 0.5814 - val_loss: 0.5502 - val_root_mean_squared_error: 0.7418\n",
      "Epoch 15/20\n",
      "363/363 [==============================] - 0s 989us/step - loss: 0.3381 - root_mean_squared_error: 0.5815 - val_loss: 0.6079 - val_root_mean_squared_error: 0.7797\n",
      "Epoch 16/20\n",
      "363/363 [==============================] - 0s 981us/step - loss: 0.3365 - root_mean_squared_error: 0.5801 - val_loss: 0.8936 - val_root_mean_squared_error: 0.9453\n",
      "Epoch 17/20\n",
      "363/363 [==============================] - 0s 987us/step - loss: 0.3383 - root_mean_squared_error: 0.5816 - val_loss: 0.8551 - val_root_mean_squared_error: 0.9247\n",
      "Epoch 18/20\n",
      "363/363 [==============================] - 0s 984us/step - loss: 0.3385 - root_mean_squared_error: 0.5818 - val_loss: 1.3330 - val_root_mean_squared_error: 1.1545\n",
      "Epoch 19/20\n",
      "363/363 [==============================] - 0s 977us/step - loss: 0.3353 - root_mean_squared_error: 0.5790 - val_loss: 0.4883 - val_root_mean_squared_error: 0.6988\n",
      "Epoch 20/20\n",
      "363/363 [==============================] - 0s 978us/step - loss: 0.3343 - root_mean_squared_error: 0.5782 - val_loss: 0.5120 - val_root_mean_squared_error: 0.7155\n",
      "162/162 [==============================] - 0s 663us/step - loss: 0.3303 - root_mean_squared_error: 0.5747\n",
      "1/1 [==============================] - 0s 54ms/step\n"
     ]
    }
   ],
   "source": [
    "optimizer = tf.keras.optimizers.Adam(learning_rate=1e-3)\n",
    "model.compile(loss=\"mse\", optimizer=optimizer, metrics=[\"RootMeanSquaredError\"])\n",
    "\n",
    "X_train_wide, X_train_deep = X_train[ : , : 5], X_train[  : , 2:]\n",
    "X_valid_wide, X_valid_deep = X_valid[ : , : 5], X_valid[  : , 2:]\n",
    "X_test_wide, X_test_deep = X_test[ : , : 5], X_test[  : , 2:]\n",
    "X_new_wide, X_new_deep = X_test_wide[:3], X_test_deep[:3]\n",
    "\n",
    "norm_layer_wide.adapt(X_train_wide)\n",
    "norm_layer_deep.adapt(X_train_deep)\n",
    "\n",
    "history = model.fit(\n",
    "    (X_train_wide, X_train_deep), y_train,\n",
    "    epochs=20,\n",
    "    validation_data=((X_valid_wide, X_valid_deep), y_valid)\n",
    ")\n",
    "\n",
    "mse_test = model.evaluate((X_test_wide, X_test_deep), y_test)\n",
    "y_pred = model.predict((X_new_wide, X_new_deep))"
   ]
  },
  {
   "cell_type": "markdown",
   "id": "a5155685-b4e7-4673-9000-ec370bf87321",
   "metadata": {},
   "source": [
    "#### 보조 출력 추가"
   ]
  },
  {
   "cell_type": "code",
   "execution_count": 26,
   "id": "639d8dbd-6c06-4a11-bcdd-30a91f6d9967",
   "metadata": {},
   "outputs": [
    {
     "name": "stdout",
     "output_type": "stream",
     "text": [
      "Epoch 1/20\n",
      "363/363 [==============================] - 2s 2ms/step - loss: 2.9724 - dense_15_loss: 1.3888 - dense_16_loss: 1.5836 - dense_15_root_mean_squared_error: 1.1785 - dense_16_root_mean_squared_error: 1.2584 - val_loss: 2.3786 - val_dense_15_loss: 1.5704 - val_dense_16_loss: 0.8082 - val_dense_15_root_mean_squared_error: 1.2531 - val_dense_16_root_mean_squared_error: 0.8990\n",
      "Epoch 2/20\n",
      "363/363 [==============================] - 0s 1ms/step - loss: 1.1328 - dense_15_loss: 0.4936 - dense_16_loss: 0.6393 - dense_15_root_mean_squared_error: 0.7025 - dense_16_root_mean_squared_error: 0.7995 - val_loss: 1.9563 - val_dense_15_loss: 1.2023 - val_dense_16_loss: 0.7540 - val_dense_15_root_mean_squared_error: 1.0965 - val_dense_16_root_mean_squared_error: 0.8684\n",
      "Epoch 3/20\n",
      "363/363 [==============================] - 0s 1ms/step - loss: 1.0042 - dense_15_loss: 0.4466 - dense_16_loss: 0.5575 - dense_15_root_mean_squared_error: 0.6683 - dense_16_root_mean_squared_error: 0.7467 - val_loss: 1.2754 - val_dense_15_loss: 0.6699 - val_dense_16_loss: 0.6054 - val_dense_15_root_mean_squared_error: 0.8185 - val_dense_16_root_mean_squared_error: 0.7781\n",
      "Epoch 4/20\n",
      "363/363 [==============================] - 0s 1ms/step - loss: 0.9269 - dense_15_loss: 0.4078 - dense_16_loss: 0.5191 - dense_15_root_mean_squared_error: 0.6386 - dense_16_root_mean_squared_error: 0.7205 - val_loss: 0.9192 - val_dense_15_loss: 0.4030 - val_dense_16_loss: 0.5163 - val_dense_15_root_mean_squared_error: 0.6348 - val_dense_16_root_mean_squared_error: 0.7185\n",
      "Epoch 5/20\n",
      "363/363 [==============================] - 0s 1ms/step - loss: 0.8611 - dense_15_loss: 0.3876 - dense_16_loss: 0.4735 - dense_15_root_mean_squared_error: 0.6226 - dense_16_root_mean_squared_error: 0.6881 - val_loss: 0.7806 - val_dense_15_loss: 0.3531 - val_dense_16_loss: 0.4275 - val_dense_15_root_mean_squared_error: 0.5942 - val_dense_16_root_mean_squared_error: 0.6538\n",
      "Epoch 6/20\n",
      "363/363 [==============================] - 0s 1ms/step - loss: 0.8023 - dense_15_loss: 0.3635 - dense_16_loss: 0.4388 - dense_15_root_mean_squared_error: 0.6029 - dense_16_root_mean_squared_error: 0.6624 - val_loss: 1.3037 - val_dense_15_loss: 0.5696 - val_dense_16_loss: 0.7341 - val_dense_15_root_mean_squared_error: 0.7547 - val_dense_16_root_mean_squared_error: 0.8568\n",
      "Epoch 7/20\n",
      "363/363 [==============================] - 0s 1ms/step - loss: 0.7907 - dense_15_loss: 0.3588 - dense_16_loss: 0.4319 - dense_15_root_mean_squared_error: 0.5990 - dense_16_root_mean_squared_error: 0.6572 - val_loss: 0.7809 - val_dense_15_loss: 0.3309 - val_dense_16_loss: 0.4500 - val_dense_15_root_mean_squared_error: 0.5752 - val_dense_16_root_mean_squared_error: 0.6708\n",
      "Epoch 8/20\n",
      "363/363 [==============================] - 0s 1ms/step - loss: 0.7691 - dense_15_loss: 0.3541 - dense_16_loss: 0.4150 - dense_15_root_mean_squared_error: 0.5951 - dense_16_root_mean_squared_error: 0.6442 - val_loss: 1.1483 - val_dense_15_loss: 0.3866 - val_dense_16_loss: 0.7617 - val_dense_15_root_mean_squared_error: 0.6218 - val_dense_16_root_mean_squared_error: 0.8727\n",
      "Epoch 9/20\n",
      "363/363 [==============================] - 0s 1ms/step - loss: 0.7553 - dense_15_loss: 0.3453 - dense_16_loss: 0.4100 - dense_15_root_mean_squared_error: 0.5876 - dense_16_root_mean_squared_error: 0.6403 - val_loss: 0.8897 - val_dense_15_loss: 0.3224 - val_dense_16_loss: 0.5673 - val_dense_15_root_mean_squared_error: 0.5678 - val_dense_16_root_mean_squared_error: 0.7532\n",
      "Epoch 10/20\n",
      "363/363 [==============================] - 0s 1ms/step - loss: 0.7512 - dense_15_loss: 0.3456 - dense_16_loss: 0.4056 - dense_15_root_mean_squared_error: 0.5879 - dense_16_root_mean_squared_error: 0.6368 - val_loss: 1.5270 - val_dense_15_loss: 0.5969 - val_dense_16_loss: 0.9301 - val_dense_15_root_mean_squared_error: 0.7726 - val_dense_16_root_mean_squared_error: 0.9644\n",
      "Epoch 11/20\n",
      "363/363 [==============================] - 0s 1ms/step - loss: 0.7402 - dense_15_loss: 0.3427 - dense_16_loss: 0.3974 - dense_15_root_mean_squared_error: 0.5854 - dense_16_root_mean_squared_error: 0.6304 - val_loss: 0.7053 - val_dense_15_loss: 0.3164 - val_dense_16_loss: 0.3889 - val_dense_15_root_mean_squared_error: 0.5625 - val_dense_16_root_mean_squared_error: 0.6236\n",
      "Epoch 12/20\n",
      "363/363 [==============================] - 0s 1ms/step - loss: 0.7340 - dense_15_loss: 0.3407 - dense_16_loss: 0.3933 - dense_15_root_mean_squared_error: 0.5837 - dense_16_root_mean_squared_error: 0.6271 - val_loss: 1.2956 - val_dense_15_loss: 0.5403 - val_dense_16_loss: 0.7553 - val_dense_15_root_mean_squared_error: 0.7350 - val_dense_16_root_mean_squared_error: 0.8691\n",
      "Epoch 13/20\n",
      "363/363 [==============================] - 0s 1ms/step - loss: 0.7235 - dense_15_loss: 0.3356 - dense_16_loss: 0.3879 - dense_15_root_mean_squared_error: 0.5793 - dense_16_root_mean_squared_error: 0.6228 - val_loss: 0.7254 - val_dense_15_loss: 0.3519 - val_dense_16_loss: 0.3735 - val_dense_15_root_mean_squared_error: 0.5932 - val_dense_16_root_mean_squared_error: 0.6112\n",
      "Epoch 14/20\n",
      "363/363 [==============================] - 0s 1ms/step - loss: 0.7176 - dense_15_loss: 0.3324 - dense_16_loss: 0.3852 - dense_15_root_mean_squared_error: 0.5765 - dense_16_root_mean_squared_error: 0.6207 - val_loss: 0.8608 - val_dense_15_loss: 0.3686 - val_dense_16_loss: 0.4921 - val_dense_15_root_mean_squared_error: 0.6072 - val_dense_16_root_mean_squared_error: 0.7015\n",
      "Epoch 15/20\n",
      "363/363 [==============================] - 0s 1ms/step - loss: 0.7156 - dense_15_loss: 0.3336 - dense_16_loss: 0.3820 - dense_15_root_mean_squared_error: 0.5776 - dense_16_root_mean_squared_error: 0.6181 - val_loss: 0.7104 - val_dense_15_loss: 0.3333 - val_dense_16_loss: 0.3772 - val_dense_15_root_mean_squared_error: 0.5773 - val_dense_16_root_mean_squared_error: 0.6141\n",
      "Epoch 16/20\n",
      "363/363 [==============================] - 0s 1ms/step - loss: 0.7084 - dense_15_loss: 0.3290 - dense_16_loss: 0.3795 - dense_15_root_mean_squared_error: 0.5736 - dense_16_root_mean_squared_error: 0.6160 - val_loss: 0.6840 - val_dense_15_loss: 0.3137 - val_dense_16_loss: 0.3703 - val_dense_15_root_mean_squared_error: 0.5601 - val_dense_16_root_mean_squared_error: 0.6085\n",
      "Epoch 17/20\n",
      "363/363 [==============================] - 0s 1ms/step - loss: 0.7055 - dense_15_loss: 0.3288 - dense_16_loss: 0.3767 - dense_15_root_mean_squared_error: 0.5734 - dense_16_root_mean_squared_error: 0.6138 - val_loss: 1.5268 - val_dense_15_loss: 0.5880 - val_dense_16_loss: 0.9389 - val_dense_15_root_mean_squared_error: 0.7668 - val_dense_16_root_mean_squared_error: 0.9689\n",
      "Epoch 18/20\n",
      "363/363 [==============================] - 0s 1ms/step - loss: 0.7082 - dense_15_loss: 0.3287 - dense_16_loss: 0.3795 - dense_15_root_mean_squared_error: 0.5733 - dense_16_root_mean_squared_error: 0.6160 - val_loss: 0.7461 - val_dense_15_loss: 0.3471 - val_dense_16_loss: 0.3991 - val_dense_15_root_mean_squared_error: 0.5891 - val_dense_16_root_mean_squared_error: 0.6317\n",
      "Epoch 19/20\n",
      "363/363 [==============================] - 0s 1ms/step - loss: 0.6942 - dense_15_loss: 0.3242 - dense_16_loss: 0.3700 - dense_15_root_mean_squared_error: 0.5694 - dense_16_root_mean_squared_error: 0.6083 - val_loss: 0.9689 - val_dense_15_loss: 0.4013 - val_dense_16_loss: 0.5676 - val_dense_15_root_mean_squared_error: 0.6335 - val_dense_16_root_mean_squared_error: 0.7534\n",
      "Epoch 20/20\n",
      "363/363 [==============================] - 0s 1ms/step - loss: 0.7142 - dense_15_loss: 0.3344 - dense_16_loss: 0.3797 - dense_15_root_mean_squared_error: 0.5783 - dense_16_root_mean_squared_error: 0.6162 - val_loss: 0.7906 - val_dense_15_loss: 0.3568 - val_dense_16_loss: 0.4337 - val_dense_15_root_mean_squared_error: 0.5974 - val_dense_16_root_mean_squared_error: 0.6586\n",
      "162/162 [==============================] - 0s 691us/step - loss: 0.6950 - dense_15_loss: 0.3240 - dense_16_loss: 0.3710 - dense_15_root_mean_squared_error: 0.5692 - dense_16_root_mean_squared_error: 0.6091\n",
      "1/1 [==============================] - 0s 61ms/step\n"
     ]
    }
   ],
   "source": [
    "input_wide = tf.keras.layers.Input(shape=[5])\n",
    "input_deep = tf.keras.layers.Input(shape=[6])\n",
    "norm_layer_wide = tf.keras.layers.Normalization()\n",
    "norm_layer_deep = tf.keras.layers.Normalization()\n",
    "norm_wide = norm_layer_wide(input_wide)\n",
    "norm_deep = norm_layer_deep(input_deep)\n",
    "hidden1 = tf.keras.layers.Dense(30, activation='relu')(norm_deep)\n",
    "hidden2 = tf.keras.layers.Dense(30, activation='relu')(hidden1)\n",
    "concat = tf.keras.layers.concatenate([norm_wide, hidden2])\n",
    "\n",
    "# 1. 보조 출력 정의 + 보조 출력이 받을 입력 지정\n",
    "output = tf.keras.layers.Dense(1)(concat)\n",
    "aux_ouptut = tf.keras.layers.Dense(1)(hidden2)\n",
    "\n",
    "# 2. 모델의 outputs에 보조 출력 추가\n",
    "model = tf.keras.Model(\n",
    "    inputs=[input_wide, input_deep], \n",
    "    outputs=[output, aux_ouptut]\n",
    ")\n",
    "\n",
    "# 3. 이 외엔 동일\n",
    "\n",
    "optimizer = tf.keras.optimizers.Adam(learning_rate=1e-3)\n",
    "model.compile(loss=\"mse\", optimizer=optimizer, metrics=[\"RootMeanSquaredError\"])\n",
    "\n",
    "X_train_wide, X_train_deep = X_train[ : , : 5], X_train[  : , 2:]\n",
    "X_valid_wide, X_valid_deep = X_valid[ : , : 5], X_valid[  : , 2:]\n",
    "X_test_wide, X_test_deep = X_test[ : , : 5], X_test[  : , 2:]\n",
    "X_new_wide, X_new_deep = X_test_wide[:3], X_test_deep[:3]\n",
    "\n",
    "norm_layer_wide.adapt(X_train_wide)\n",
    "norm_layer_deep.adapt(X_train_deep)\n",
    "\n",
    "history = model.fit(\n",
    "    (X_train_wide, X_train_deep), y_train,\n",
    "    epochs=20,\n",
    "    validation_data=((X_valid_wide, X_valid_deep), y_valid)\n",
    ")\n",
    "\n",
    "mse_test = model.evaluate((X_test_wide, X_test_deep), y_test)\n",
    "y_pred = model.predict((X_new_wide, X_new_deep))"
   ]
  },
  {
   "cell_type": "markdown",
   "id": "707edfc3-f46d-41f8-af6d-3af03ba7fc02",
   "metadata": {},
   "source": [
    "## 10.3 신경망 하이퍼파라미터 튜닝 : keras_tuner"
   ]
  },
  {
   "cell_type": "markdown",
   "id": "085d1bc5-48bd-4d52-978a-3375e2474ca6",
   "metadata": {},
   "source": [
    "### 1. 구조와 관련된 하이퍼파라미터 튜닝(활성화 함수, 층 수, 뉴런 수 등)"
   ]
  },
  {
   "cell_type": "code",
   "execution_count": 30,
   "id": "3134bf10-1308-4310-b448-7e9a72090e5c",
   "metadata": {},
   "outputs": [],
   "source": [
    "import keras_tuner as kt\n",
    "\n",
    "def build_model(hp):\n",
    "    n_hidden = hp.Int(\"n_hidden\", min_value=0, max_value=8, default=2)\n",
    "    n_neurons = hp.Int(\"n_neurons\", min_value=16, max_value=256)\n",
    "    learning_rate = hp.Float(\"learning_rate\", min_value=1e-4, max_value=1e-2, sampling=\"log\")\n",
    "    optimizer = hp.Choice(\"optimizer\", values=[\"sgd\", \"adam\"])\n",
    "\n",
    "    if optimizer == \"sgd\":\n",
    "        optimizer = tf.keras.optimizers.SGD(learning_rate=learning_rate)\n",
    "\n",
    "    else:\n",
    "        optimizer = tf.keras.optimizers.Adam(learning_rate=learning_rate)\n",
    "\n",
    "    model = tf.keras.Sequential()\n",
    "    model.add(tf.keras.layers.Flatten())\n",
    "\n",
    "    for _ in range(n_hidden):\n",
    "        model.add(tf.keras.layers.Dense(n_neurons, activation=\"relu\"))\n",
    "\n",
    "    model.add(tf.keras.layers.Dense(10, activation=\"softmax\"))\n",
    "    model.compile(loss=\"sparse_categorical_crossentropy\", optimizer=optimizer, metrics=[\"accuracy\"])\n",
    "\n",
    "    return model"
   ]
  },
  {
   "cell_type": "code",
   "execution_count": 31,
   "id": "7133290f-ed1e-4df1-b3e2-df2836f1185f",
   "metadata": {},
   "outputs": [],
   "source": [
    "random_search_tuner = kt.RandomSearch(\n",
    "    build_model, objective=\"val_accuracy\",\n",
    "    max_trials=5, overwrite=True,\n",
    "    directory=\"my_fashion_mnist\", project_name=\"my_rnd_search\",\n",
    "    seed=42\n",
    ")"
   ]
  },
  {
   "cell_type": "code",
   "execution_count": 32,
   "id": "41f0ed7c-24e3-4e78-8643-389a0f88dd22",
   "metadata": {},
   "outputs": [
    {
     "name": "stdout",
     "output_type": "stream",
     "text": [
      "Trial 5 Complete [00h 00m 05s]\n",
      "val_accuracy: 0.004392764996737242\n",
      "\n",
      "Best val_accuracy So Far: 0.004392764996737242\n",
      "Total elapsed time: 00h 00m 28s\n"
     ]
    }
   ],
   "source": [
    "random_search_tuner.search(\n",
    "    X_train, y_train, epochs=10,\n",
    "    validation_data=(X_valid, y_valid)\n",
    ")"
   ]
  },
  {
   "cell_type": "markdown",
   "id": "7808175e-0110-4a6f-a9e7-9aa81b1e0864",
   "metadata": {},
   "source": [
    "### 찾아낸 최적 하이퍼파라미터 가져오기"
   ]
  },
  {
   "cell_type": "code",
   "execution_count": 33,
   "id": "e769af44-ff93-420a-b8e7-b9a224026816",
   "metadata": {},
   "outputs": [
    {
     "data": {
      "text/plain": [
       "<keras.src.engine.sequential.Sequential at 0x24dca8909d0>"
      ]
     },
     "execution_count": 33,
     "metadata": {},
     "output_type": "execute_result"
    }
   ],
   "source": [
    "top3_models = random_search_tuner.get_best_models(num_models=3)\n",
    "best_model = top3_models[0]\n",
    "best_model"
   ]
  },
  {
   "cell_type": "code",
   "execution_count": 37,
   "id": "5691a910-077e-455a-859b-3f9a2a13d538",
   "metadata": {},
   "outputs": [
    {
     "data": {
      "text/plain": [
       "{'n_hidden': 5,\n",
       " 'n_neurons': 25,\n",
       " 'learning_rate': 0.0006562536901904111,\n",
       " 'optimizer': 'sgd'}"
      ]
     },
     "execution_count": 37,
     "metadata": {},
     "output_type": "execute_result"
    }
   ],
   "source": [
    "top3_params = random_search_tuner.get_best_hyperparameters(num_trials=3)\n",
    "top3_params[0].values"
   ]
  },
  {
   "cell_type": "code",
   "execution_count": 38,
   "id": "614a4529-f3ae-4178-98aa-fb92c9c75804",
   "metadata": {},
   "outputs": [
    {
     "name": "stdout",
     "output_type": "stream",
     "text": [
      "Trial 0 summary\n",
      "Hyperparameters:\n",
      "n_hidden: 5\n",
      "n_neurons: 25\n",
      "learning_rate: 0.0006562536901904111\n",
      "optimizer: sgd\n",
      "Score: 0.004392764996737242\n"
     ]
    },
    {
     "data": {
      "text/plain": [
       "(<keras_tuner.src.engine.trial.Trial at 0x24dccce5450>, None)"
      ]
     },
     "execution_count": 38,
     "metadata": {},
     "output_type": "execute_result"
    }
   ],
   "source": [
    "best_trial = random_search_tuner.oracle.get_best_trials(num_trials=1)[0]\n",
    "best_trial, best_trial.summary()"
   ]
  },
  {
   "cell_type": "code",
   "execution_count": 39,
   "id": "deb7675b-4101-4a1d-bc6a-b5dfbe2ee9b4",
   "metadata": {},
   "outputs": [
    {
     "data": {
      "text/plain": [
       "0.004392764996737242"
      ]
     },
     "execution_count": 39,
     "metadata": {},
     "output_type": "execute_result"
    }
   ],
   "source": [
    "best_trial.metrics.get_last_value(\"val_accuracy\")"
   ]
  },
  {
   "cell_type": "code",
   "execution_count": 40,
   "id": "fc212381-8c89-4c9b-b0cb-4ed87b77da89",
   "metadata": {},
   "outputs": [
    {
     "name": "stdout",
     "output_type": "stream",
     "text": [
      "Epoch 1/10\n",
      "484/484 [==============================] - 1s 810us/step - loss: 1.5337 - accuracy: 0.0033\n",
      "Epoch 2/10\n",
      "484/484 [==============================] - 0s 830us/step - loss: 1.5238 - accuracy: 0.0033\n",
      "Epoch 3/10\n",
      "484/484 [==============================] - 0s 777us/step - loss: 1.5184 - accuracy: 0.0032\n",
      "Epoch 4/10\n",
      "484/484 [==============================] - 0s 816us/step - loss: 1.5160 - accuracy: 0.0033\n",
      "Epoch 5/10\n",
      "484/484 [==============================] - 0s 819us/step - loss: 1.5142 - accuracy: 0.0033\n",
      "Epoch 6/10\n",
      "484/484 [==============================] - 0s 783us/step - loss: 1.5118 - accuracy: 0.0033\n",
      "Epoch 7/10\n",
      "484/484 [==============================] - 0s 768us/step - loss: 1.5126 - accuracy: 0.0033\n",
      "Epoch 8/10\n",
      "484/484 [==============================] - 0s 741us/step - loss: 1.5103 - accuracy: 0.0033\n",
      "Epoch 9/10\n",
      "484/484 [==============================] - 0s 766us/step - loss: 1.5102 - accuracy: 0.0033\n",
      "Epoch 10/10\n",
      "484/484 [==============================] - 0s 743us/step - loss: 1.5108 - accuracy: 0.0033\n"
     ]
    },
    {
     "data": {
      "text/plain": [
       "<keras.src.callbacks.History at 0x24dcf509b90>"
      ]
     },
     "execution_count": 40,
     "metadata": {},
     "output_type": "execute_result"
    }
   ],
   "source": [
    "best_model.fit(X_train_full, y_train_full, epochs=10)"
   ]
  },
  {
   "cell_type": "code",
   "execution_count": 41,
   "id": "fe892ff0-8661-40ed-bcec-4f458a71b5d7",
   "metadata": {},
   "outputs": [
    {
     "name": "stdout",
     "output_type": "stream",
     "text": [
      "162/162 [==============================] - 0s 697us/step - loss: 1.5050 - accuracy: 0.0021\n"
     ]
    }
   ],
   "source": [
    "test_loss, test_accuracy = best_model.evaluate(X_test, y_test)"
   ]
  },
  {
   "cell_type": "markdown",
   "id": "203e7490-5448-4822-b501-d34a30a17d3a",
   "metadata": {},
   "source": [
    "### 훈련 기법과 관련된 하이퍼파라미터 찾기 : 훈련 데이터 표준화 유무, 배치 크기 등"
   ]
  },
  {
   "cell_type": "code",
   "execution_count": 42,
   "id": "d9aaf92d-b10c-4532-8190-46f8baf33be9",
   "metadata": {},
   "outputs": [],
   "source": [
    "class MyClassificationHyperModel(kt.HyperModel):\n",
    "    def build(self, hp):\n",
    "        return build_model(hp)\n",
    "\n",
    "    def fit(self, hp, model, X, y, **kwargs):\n",
    "        if hp.Boolean(\"normalize\"):\n",
    "            norm_layer = tf.keras.layers.Normalization()\n",
    "            X = norm_layer(X)\n",
    "\n",
    "        return model.fit(X, y, **kwargs)"
   ]
  },
  {
   "cell_type": "code",
   "execution_count": 43,
   "id": "9d603fc7-cdbe-4905-9327-453fbb7f0c29",
   "metadata": {},
   "outputs": [],
   "source": [
    "hyperband_tuner = kt.Hyperband(\n",
    "    MyClassificationHyperModel(), \n",
    "    objective=\"val_accuracy\",\n",
    "    seed=42,\n",
    "    max_epochs=10, factor=3, hyperband_iterations=2,\n",
    "    overwrite=True, directory=\"my_fashion_mnist\", project_name=\"hyperband\"\n",
    ")"
   ]
  },
  {
   "cell_type": "code",
   "execution_count": 44,
   "id": "52571ea3-2a60-4015-b9f7-d616364f16c1",
   "metadata": {},
   "outputs": [],
   "source": [
    "from pathlib import Path"
   ]
  },
  {
   "cell_type": "code",
   "execution_count": 45,
   "id": "d8469348-fe5f-4c74-af3c-1d72c581b6a3",
   "metadata": {},
   "outputs": [
    {
     "name": "stdout",
     "output_type": "stream",
     "text": [
      "Trial 60 Complete [00h 00m 04s]\n",
      "val_accuracy: 0.004392764996737242\n",
      "\n",
      "Best val_accuracy So Far: 0.005167958792299032\n",
      "Total elapsed time: 00h 03m 10s\n"
     ]
    }
   ],
   "source": [
    "root_logdir = Path(hyperband_tuner.project_dir) / \"tensorboard\"\n",
    "tensorboard_cb = tf.keras.callbacks.TensorBoard(root_logdir)\n",
    "early_stopping_cb = tf.keras.callbacks.EarlyStopping(patience=2)\n",
    "hyperband_tuner.search(\n",
    "    X_train, y_train, epochs=10,\n",
    "    validation_data=(X_valid, y_valid),\n",
    "    callbacks=[early_stopping_cb, tensorboard_cb]\n",
    ")"
   ]
  },
  {
   "cell_type": "code",
   "execution_count": 46,
   "id": "44355d0b-5f61-4d47-8299-c3370d2b0baf",
   "metadata": {},
   "outputs": [
    {
     "name": "stdout",
     "output_type": "stream",
     "text": [
      "Trial 10 Complete [00h 00m 05s]\n",
      "val_accuracy: 0.004134366754442453\n",
      "\n",
      "Best val_accuracy So Far: 0.005167958792299032\n",
      "Total elapsed time: 00h 00m 48s\n"
     ]
    }
   ],
   "source": [
    "bayesian_opt_tuner = kt.BayesianOptimization(\n",
    "    MyClassificationHyperModel(), \n",
    "    objective=\"val_accuracy\", seed=42,\n",
    "    max_trials=10, alpha=1e-4, beta=2.6,\n",
    "    overwrite=True, directory=\"my_fashion_mnist\", project_name=\"baysian_opt\"\n",
    ")\n",
    "\n",
    "bayesian_opt_tuner.search(\n",
    "    X_train, y_train, epochs=10,\n",
    "    validation_data=(X_valid, y_valid),\n",
    "    callbacks=[early_stopping_cb, tensorboard_cb]\n",
    ")"
   ]
  },
  {
   "cell_type": "code",
   "execution_count": null,
   "id": "899c09a0-2924-413a-a2ec-4e1d1d91c014",
   "metadata": {},
   "outputs": [],
   "source": []
  }
 ],
 "metadata": {
  "kernelspec": {
   "display_name": "Python 3 (ipykernel)",
   "language": "python",
   "name": "python3"
  },
  "language_info": {
   "codemirror_mode": {
    "name": "ipython",
    "version": 3
   },
   "file_extension": ".py",
   "mimetype": "text/x-python",
   "name": "python",
   "nbconvert_exporter": "python",
   "pygments_lexer": "ipython3",
   "version": "3.11.8"
  }
 },
 "nbformat": 4,
 "nbformat_minor": 5
}
