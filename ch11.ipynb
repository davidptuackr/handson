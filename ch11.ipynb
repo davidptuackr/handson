{
 "cells": [
  {
   "cell_type": "markdown",
   "id": "d980e374-ac4b-400a-8d3a-72520383c05a",
   "metadata": {},
   "source": [
    "# 심층 신경망 훈련"
   ]
  },
  {
   "cell_type": "markdown",
   "id": "b7402775-ff31-4c5b-8b7c-a09c55cfc3f6",
   "metadata": {},
   "source": [
    "## 11.1 그래디언트 소실, 폭주"
   ]
  },
  {
   "cell_type": "markdown",
   "id": "5329b7e4-ba4e-4876-9562-9617bdbbc1c9",
   "metadata": {},
   "source": [
    "### 11.1.1 가중치 초기화"
   ]
  },
  {
   "cell_type": "code",
   "execution_count": 1,
   "id": "ab0bdb7d-634e-49a9-8580-058958d25584",
   "metadata": {},
   "outputs": [
    {
     "name": "stdout",
     "output_type": "stream",
     "text": [
      "WARNING:tensorflow:From C:\\Users\\davidbowman\\anaconda3\\Lib\\site-packages\\keras\\src\\losses.py:2976: The name tf.losses.sparse_softmax_cross_entropy is deprecated. Please use tf.compat.v1.losses.sparse_softmax_cross_entropy instead.\n",
      "\n"
     ]
    }
   ],
   "source": [
    "import tensorflow as tf"
   ]
  },
  {
   "cell_type": "code",
   "execution_count": 2,
   "id": "ef2ebe23-567c-4277-928c-7136843c6b29",
   "metadata": {},
   "outputs": [
    {
     "name": "stdout",
     "output_type": "stream",
     "text": [
      "WARNING:tensorflow:From C:\\Users\\davidbowman\\anaconda3\\Lib\\site-packages\\keras\\src\\backend.py:873: The name tf.get_default_graph is deprecated. Please use tf.compat.v1.get_default_graph instead.\n",
      "\n"
     ]
    }
   ],
   "source": [
    "dense = tf.keras.layers.Dense(\n",
    "    50,\n",
    "    activation=\"relu\",\n",
    "    kernel_initializer=\"he_normal\"\n",
    ")"
   ]
  },
  {
   "cell_type": "code",
   "execution_count": 3,
   "id": "68402441-2bc0-402a-9399-fe270d569ee3",
   "metadata": {},
   "outputs": [],
   "source": [
    "he_avg_init = tf.keras.initializers.VarianceScaling(\n",
    "    scale=2, mode=\"fan_avg\",\n",
    "    distribution=\"uniform\"\n",
    ")\n",
    "\n",
    "dense = tf.keras.layers.Dense(50, activation=\"sigmoid\", kernel_initializer=he_avg_init)"
   ]
  },
  {
   "cell_type": "markdown",
   "id": "fca2a1b0-f897-4c15-a989-79fd7fe2112f",
   "metadata": {},
   "source": [
    "### 11.1.2 활성화 함수"
   ]
  },
  {
   "cell_type": "code",
   "execution_count": 4,
   "id": "037c4a1a-32b5-44a2-8f45-0bea4b88aec8",
   "metadata": {},
   "outputs": [],
   "source": [
    "leaky_relu = tf.keras.layers.LeakyReLU(alpha=0.2)\n",
    "dense = tf.keras.layers.Dense(50, activation=leaky_relu, kernel_initializer=\"he_normal\")"
   ]
  },
  {
   "cell_type": "code",
   "execution_count": 5,
   "id": "e315949c-a37a-402f-ab01-088f00c95fd6",
   "metadata": {},
   "outputs": [],
   "source": [
    "model = tf.keras.models.Sequential([\n",
    "    tf.keras.layers.Dense(50, kernel_initializer=\"he_normal\"),\n",
    "    tf.keras.layers.LeakyReLU(alpha=0.2)\n",
    "])"
   ]
  },
  {
   "cell_type": "code",
   "execution_count": 6,
   "id": "4d923528-3af0-4381-acf6-3a26786ba794",
   "metadata": {},
   "outputs": [],
   "source": [
    "elu = tf.keras.layers.ELU(alpha=1)\n",
    "dense = tf.keras.layers.Dense(50, activation=elu, kernel_initializer=\"he_normal\")"
   ]
  },
  {
   "cell_type": "code",
   "execution_count": 7,
   "id": "bb58516b-6db3-425f-bace-13e2d73623a8",
   "metadata": {},
   "outputs": [],
   "source": [
    "dense = tf.keras.layers.Dense(50, activation=\"elu\", kernel_initializer=\"he_normal\")"
   ]
  },
  {
   "cell_type": "markdown",
   "id": "96cb01f4-e311-4c63-8528-de76def74ca9",
   "metadata": {},
   "source": [
    "### 11.1.3 배치 정규화"
   ]
  },
  {
   "cell_type": "code",
   "execution_count": 8,
   "id": "a296c666-a93e-4369-a3ce-fda58bc75a75",
   "metadata": {},
   "outputs": [],
   "source": [
    "model = tf.keras.Sequential([\n",
    "    tf.keras.layers.Flatten(input_shape=[28, 28]),\n",
    "    tf.keras.layers.BatchNormalization(),\n",
    "    tf.keras.layers.Dense(300, activation=\"relu\", kernel_initializer=\"he_normal\"),\n",
    "    tf.keras.layers.BatchNormalization(),\n",
    "    tf.keras.layers.Dense(100, activation=\"relu\", kernel_initializer=\"he_normal\"),\n",
    "    tf.keras.layers.BatchNormalization(),\n",
    "    tf.keras.layers.Dense(10, activation=\"softmax\")\n",
    "])"
   ]
  },
  {
   "cell_type": "code",
   "execution_count": 9,
   "id": "43b3487f-2e5a-41c0-8104-c104da670c8c",
   "metadata": {},
   "outputs": [
    {
     "name": "stdout",
     "output_type": "stream",
     "text": [
      "Model: \"sequential_1\"\n",
      "_________________________________________________________________\n",
      " Layer (type)                Output Shape              Param #   \n",
      "=================================================================\n",
      " flatten (Flatten)           (None, 784)               0         \n",
      "                                                                 \n",
      " batch_normalization (Batch  (None, 784)               3136      \n",
      " Normalization)                                                  \n",
      "                                                                 \n",
      " dense_6 (Dense)             (None, 300)               235500    \n",
      "                                                                 \n",
      " batch_normalization_1 (Bat  (None, 300)               1200      \n",
      " chNormalization)                                                \n",
      "                                                                 \n",
      " dense_7 (Dense)             (None, 100)               30100     \n",
      "                                                                 \n",
      " batch_normalization_2 (Bat  (None, 100)               400       \n",
      " chNormalization)                                                \n",
      "                                                                 \n",
      " dense_8 (Dense)             (None, 10)                1010      \n",
      "                                                                 \n",
      "=================================================================\n",
      "Total params: 271346 (1.04 MB)\n",
      "Trainable params: 268978 (1.03 MB)\n",
      "Non-trainable params: 2368 (9.25 KB)\n",
      "_________________________________________________________________\n"
     ]
    }
   ],
   "source": [
    "model.summary()"
   ]
  },
  {
   "cell_type": "code",
   "execution_count": 10,
   "id": "478416d1-51fa-4f16-99e0-b4e40e682ebb",
   "metadata": {},
   "outputs": [
    {
     "data": {
      "text/plain": [
       "[('batch_normalization/gamma:0', True),\n",
       " ('batch_normalization/beta:0', True),\n",
       " ('batch_normalization/moving_mean:0', False),\n",
       " ('batch_normalization/moving_variance:0', False)]"
      ]
     },
     "execution_count": 10,
     "metadata": {},
     "output_type": "execute_result"
    }
   ],
   "source": [
    "[(var.name, var.trainable) for var in model.layers[1].variables]"
   ]
  },
  {
   "cell_type": "markdown",
   "id": "03a08ed7-bac1-4507-aee3-fcb9be5b1e52",
   "metadata": {},
   "source": [
    "## 전이 학습"
   ]
  },
  {
   "cell_type": "markdown",
   "id": "867a4e25-b495-4082-89e8-e440221b9a6a",
   "metadata": {},
   "source": [
    "### 케라스를 이용한 전이 학습"
   ]
  },
  {
   "cell_type": "markdown",
   "id": "f434ca13-6bd3-4515-b2e7-7a9c156c8e92",
   "metadata": {},
   "source": [
    "#### 1-1. 로컬에 저장된 모델 불러오기 + 사용할 층만 선택 -> 모델 구조, 가중치 복사"
   ]
  },
  {
   "cell_type": "raw",
   "id": "a1b3c64b-fe6b-41ad-bce1-5ea8e30af39c",
   "metadata": {},
   "source": [
    "model_A = tf.keras.models.load_model(\"my_model_A\")\n",
    "model_B_on_A = tf.keras.Sequential(model_A.layers[:-1])\n",
    "model_B_on_A.add(tf.keras.layers.Dense(1, activation=\"sigmoid\"))"
   ]
  },
  {
   "cell_type": "markdown",
   "id": "84df5ebd-ca5c-475e-a258-f5938ff6f112",
   "metadata": {},
   "source": [
    "#### 1-2. 모델 복제 -> 구조만 복사, 가중치는 별도로 지정 필요"
   ]
  },
  {
   "cell_type": "raw",
   "id": "1600cf3c-a966-431d-b523-6adbbb8ca2aa",
   "metadata": {},
   "source": [
    "model_A_clone = tf.keras.models.clone_model(model_A)\n",
    "model_A_clone.set_weigths(model_A.get_weights())"
   ]
  },
  {
   "cell_type": "markdown",
   "id": "4045fe6a-ae1f-4488-86ea-148c254189ce",
   "metadata": {},
   "source": [
    "#### 2. 재사용할 층 동결 후 재컴파일"
   ]
  },
  {
   "attachments": {},
   "cell_type": "raw",
   "id": "b79860bb-81f7-4984-a172-f3571b5324e2",
   "metadata": {},
   "source": [
    "for layer in model_B_on_A.layers[ : -1]:\n",
    "    layer.trinable = False\n",
    "\n",
    "optimizer = tf.keras.optimizers.SGD(learning_rate=1e-3)\n",
    "\n",
    "model_B_on_A.compile(\n",
    "    loss=\"binary_crossentropy\",\n",
    "    optimizer=optimizer,\n",
    "    metrics=[\"accuracy\"]\n",
    ")"
   ]
  },
  {
   "cell_type": "markdown",
   "id": "f8337b25-22ad-41eb-8768-1593ea372176",
   "metadata": {},
   "source": [
    "#### 3. 훈련, 이후 동결 해제"
   ]
  },
  {
   "cell_type": "raw",
   "id": "378ca234-2eb3-4769-b3c9-41a22e0903a2",
   "metadata": {},
   "source": [
    "history = model_B_on_A.fit(\n",
    "    X_train_B, y_train_B,\n",
    "    epochs=4,\n",
    "    validation_data=(X_valid_B, y_valid_B)\n",
    ")\n",
    "\n",
    "for layer in model_B_on_A.layers[ : -1]:\n",
    "    layer.trainable=True"
   ]
  },
  {
   "cell_type": "markdown",
   "id": "e938fb85-df8e-44f4-98dc-4c35f4945c30",
   "metadata": {},
   "source": [
    "## 옵티마이저"
   ]
  },
  {
   "cell_type": "markdown",
   "id": "607901b6-6793-423b-bc4c-03660b64f722",
   "metadata": {},
   "source": [
    "### 모멘텀 최적화 : 경사하강 가속"
   ]
  },
  {
   "cell_type": "code",
   "execution_count": null,
   "id": "8158384d-1108-46ce-a4b6-ea4302488cf4",
   "metadata": {},
   "outputs": [],
   "source": [
    "optimizer = tf.keras.optimizers.SGD(learning_rate=1e-3, momentum=0.9)"
   ]
  },
  {
   "cell_type": "markdown",
   "id": "d4e31219-8a8c-4706-b9b5-2ccc5a5d3bb9",
   "metadata": {},
   "source": [
    "### 네스테로프 : 모멘텀 최적화 + 점멸"
   ]
  },
  {
   "cell_type": "code",
   "execution_count": 14,
   "id": "c55bbdca-cdee-402f-87d3-bedbb17f5aae",
   "metadata": {},
   "outputs": [],
   "source": [
    "# 교재에선 use_nesterov=True로 설정하지만 최근 버전은 nesterov=True로 설정\n",
    "\n",
    "optimizer = tf.keras.optimizers.SGD(learning_rate=1e-3, momentum=0.9, nesterov=True)"
   ]
  },
  {
   "cell_type": "markdown",
   "id": "49b7f9b0-c009-4f2d-bf03-7b0f4484f60a",
   "metadata": {},
   "source": [
    "### RMSProp : AdaGrad EMA"
   ]
  },
  {
   "cell_type": "code",
   "execution_count": 16,
   "id": "fdb5412f-d2d6-4edf-be01-ba80a4a7d624",
   "metadata": {},
   "outputs": [],
   "source": [
    "optimizer = tf.keras.optimizers.RMSprop(learning_rate=1e-3, rho=0.9)"
   ]
  },
  {
   "cell_type": "markdown",
   "id": "6d3404ee-e3eb-4d51-b0c2-a3aba7b31136",
   "metadata": {},
   "source": [
    "### Adam : 모멘텀 + RMSProp"
   ]
  },
  {
   "cell_type": "code",
   "execution_count": 17,
   "id": "a0fc161a-3fd2-4c1c-909c-e5283ea7ab62",
   "metadata": {},
   "outputs": [],
   "source": [
    "optimizer = tf.keras.optimizers.Adam(learning_rate=1e-3, beta_1=0.9, beta_2=0.999)"
   ]
  },
  {
   "cell_type": "markdown",
   "id": "b579c4be-a291-4a8a-aeb7-cfba5a209a9a",
   "metadata": {},
   "source": [
    "## 학습률 스케줄링"
   ]
  },
  {
   "cell_type": "markdown",
   "id": "9677924e-88a7-4b40-a159-9e5c743f76d0",
   "metadata": {},
   "source": [
    "### 거듭제곱 기반"
   ]
  },
  {
   "cell_type": "code",
   "execution_count": 18,
   "id": "2057c54c-ad7c-458a-8e91-9883a65cd8a7",
   "metadata": {},
   "outputs": [],
   "source": [
    "optimizer = tf.keras.optimizers.SGD(learning_rate=0.01, weight_decay=1e-4)"
   ]
  },
  {
   "cell_type": "markdown",
   "id": "e6cb0e25-4552-4365-84f4-a1ffbb0e24de",
   "metadata": {},
   "source": [
    "### 그 외 스케줄링은 별도 처리  필요"
   ]
  },
  {
   "cell_type": "markdown",
   "id": "f42f829b-7ad3-48be-adb5-49d0fd4cd79a",
   "metadata": {},
   "source": [
    "## 규제"
   ]
  },
  {
   "cell_type": "code",
   "execution_count": 19,
   "id": "6f603a0c-4266-4bad-a5f6-7d2701d0423a",
   "metadata": {},
   "outputs": [],
   "source": [
    "layer = tf.keras.layers.Dense(\n",
    "    100,\n",
    "    activation=\"relu\", kernel_initializer=\"he_normal\",\n",
    "    kernel_regularizer=tf.keras.regularizers.l2(0.01)\n",
    ")"
   ]
  },
  {
   "cell_type": "markdown",
   "id": "d6c94038-ccc0-46f5-a6b0-12fe9af5e52b",
   "metadata": {},
   "source": [
    "은닉 층들은 같은 활성화 함수, 규제, 가중치 초기화를 사용하기 때문에 (거의 대부분 -> 출력 층 같은 것 빼고) functools.partial()을 사용하면 좋음 -> 혹시라도 어디 잘못 입력해서 이상해지는 것 방지"
   ]
  },
  {
   "cell_type": "code",
   "execution_count": 20,
   "id": "d8491851-b571-4add-a44b-18dc9df9dc48",
   "metadata": {},
   "outputs": [],
   "source": [
    "from functools import partial\n",
    "\n",
    "RegularizedDense = partial(\n",
    "    tf.keras.layers.Dense,\n",
    "    activation=\"relu\",\n",
    "    kernel_initializer=\"he_normal\",\n",
    "    kernel_regularizer=tf.keras.regularizers.l2(0.01)\n",
    ")\n",
    "\n",
    "model = tf.keras.Sequential([\n",
    "    tf.keras.layers.Flatten(input_shape=[28, 28]),\n",
    "    RegularizedDense(100),\n",
    "    RegularizedDense(100),\n",
    "    RegularizedDense(10, activation=\"softmax\")\n",
    "])"
   ]
  },
  {
   "cell_type": "code",
   "execution_count": null,
   "id": "40d16df2-0c87-4a6e-9eb1-71dbfe44c688",
   "metadata": {},
   "outputs": [],
   "source": []
  }
 ],
 "metadata": {
  "kernelspec": {
   "display_name": "Python 3 (ipykernel)",
   "language": "python",
   "name": "python3"
  },
  "language_info": {
   "codemirror_mode": {
    "name": "ipython",
    "version": 3
   },
   "file_extension": ".py",
   "mimetype": "text/x-python",
   "name": "python",
   "nbconvert_exporter": "python",
   "pygments_lexer": "ipython3",
   "version": "3.11.8"
  }
 },
 "nbformat": 4,
 "nbformat_minor": 5
}
